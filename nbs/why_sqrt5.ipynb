{
 "cells": [
  {
   "cell_type": "code",
   "execution_count": 1,
   "id": "a88a62c6-52fe-4052-9c82-82f878073110",
   "metadata": {},
   "outputs": [],
   "source": [
    "#| default_exp nb_03"
   ]
  },
  {
   "cell_type": "markdown",
   "id": "0bb3f861-ace5-45c8-a704-216f92850da4",
   "metadata": {},
   "source": [
    "# Why do we use sqrt5?\n",
    "> Exploring initialization parameters in PyTorch"
   ]
  },
  {
   "cell_type": "markdown",
   "id": "4290145b-31cc-49ec-84a4-d2caf31a9ac5",
   "metadata": {},
   "source": [
    "## Does `nn.Conv2d` init work well?"
   ]
  },
  {
   "cell_type": "markdown",
   "id": "cbae9323-c775-4ce0-9db3-363164c0d2a5",
   "metadata": {},
   "source": [
    "In `torch.nn.modules.conv`'s `reset_parameters` function (the initialization function), `init.kaiming_uniform_` is used (what we learned last lecture) with the following setting:\n",
    "\n",
    "```python\n",
    "def reset_parameters(self):\n",
    "    ...\n",
    "    init.kaiming_uniform_(self.weight, a=math.sqrt(5))\n",
    "    ...\n",
    "```\n",
    "\n",
    "This `a` is undocumented."
   ]
  },
  {
   "cell_type": "code",
   "execution_count": 13,
   "id": "b3e56aea-a267-455f-ac4b-b7a8f34fc9c9",
   "metadata": {},
   "outputs": [],
   "source": [
    "#| export\n",
    "from pathlib import Path\n",
    "import gzip, pickle\n",
    "from torch import tensor\n",
    "from functools import partial\n",
    "import math\n",
    "from coursenotes.nb_01 import MNIST_URL\n",
    "from fastdownload import FastDownload\n",
    "from coursenotes.nb_02 import mse\n",
    "\n",
    "DATA_PATH = Path(\"~/.fastai/data/\")\n",
    "\n",
    "def get_data():\n",
    "    fd = FastDownload(base=\"~/.fastai\")\n",
    "    path = fd.download(MNIST_URL)\n",
    "    with gzip.open(path, 'rb') as f:\n",
    "        ((x_train, y_train), (x_valid, y_valid), _) = pickle.load(f, encoding='latin-1')\n",
    "    return map(tensor, (x_train,y_train,x_valid,y_valid))\n",
    "\n",
    "def normalize(x, mean, std): return (x-mean)/std"
   ]
  },
  {
   "cell_type": "code",
   "execution_count": 15,
   "id": "e47bb87a-2b1c-410c-8f21-4301248757cd",
   "metadata": {},
   "outputs": [],
   "source": [
    "x_train, y_train, x_valid, y_valid = get_data()\n",
    "train_mean, train_std = x_train.mean(), x_train.std()\n",
    "# Use functools.partial here to make it a bit more efficient\n",
    "norm = partial(normalize, mean=train_mean, std=train_std)\n",
    "x_train = norm(x_train)\n",
    "x_valid = norm(x_valid)"
   ]
  },
  {
   "cell_type": "code",
   "execution_count": 16,
   "id": "93e771df-a3c8-4260-a4a4-fc5b81bcd05f",
   "metadata": {},
   "outputs": [
    {
     "data": {
      "text/plain": [
       "(torch.Size([50000, 1, 28, 28]), torch.Size([10000, 1, 28, 28]))"
      ]
     },
     "execution_count": 16,
     "metadata": {},
     "output_type": "execute_result"
    }
   ],
   "source": [
    "x_train = x_train.view(-1,1,28,28)\n",
    "x_valid = x_valid.view(-1,1,28,28)\n",
    "x_train.shape, x_valid.shape"
   ]
  },
  {
   "cell_type": "markdown",
   "id": "dfdc8fc1-0399-4fc2-ac99-e3278ca53afb",
   "metadata": {},
   "source": [
    "To do a convolution we need a square or rectangular shape, which is why the data is now `batch_size, n_channels, width, height`"
   ]
  },
  {
   "cell_type": "code",
   "execution_count": 17,
   "id": "b0e75144-11a4-4ef2-881a-8e1138e5c79d",
   "metadata": {},
   "outputs": [
    {
     "data": {
      "text/plain": [
       "(50000, tensor(10))"
      ]
     },
     "execution_count": 17,
     "metadata": {},
     "output_type": "execute_result"
    }
   ],
   "source": [
    "num_datapoints,*_ = x_train.shape\n",
    "num_classes = y_train.max()+1\n",
    "num_hidden = 32\n",
    "num_datapoints, num_classes"
   ]
  },
  {
   "cell_type": "markdown",
   "id": "6f760160",
   "metadata": {},
   "source": [
    "#| explain num_datapoints,* = x_train.shape\n",
    "This is some python code that will only keep the first out of a tuple and forgo the rest"
   ]
  },
  {
   "cell_type": "markdown",
   "id": "ea786124",
   "metadata": {},
   "source": [
    "#| explain num_classes = \n",
    "Get the number of classes"
   ]
  },
  {
   "cell_type": "markdown",
   "id": "791f61ae",
   "metadata": {},
   "source": [
    "#| explain num_hidden\n",
    "The size of our hidden layer"
   ]
  },
  {
   "cell_type": "code",
   "execution_count": 19,
   "id": "0209b9a2-8438-4e7b-aaba-d262502468d6",
   "metadata": {},
   "outputs": [],
   "source": [
    "from torch import nn"
   ]
  },
  {
   "cell_type": "markdown",
   "id": "2a20cacc-41a2-423c-a33b-382502661623",
   "metadata": {},
   "source": [
    "Now we'll create a simple `nn.Conv2d` layer that expects a single-channel input, the size of the hidden layer, and we'll make it a 5x5 kernel (more on this later):"
   ]
  },
  {
   "cell_type": "code",
   "execution_count": 20,
   "id": "0f8ab99e-a774-4d3d-ae9f-57c06fe02347",
   "metadata": {},
   "outputs": [],
   "source": [
    "l1 = nn.Conv2d(1, num_hidden, 5)"
   ]
  },
  {
   "cell_type": "code",
   "execution_count": 21,
   "id": "d2c78884-8695-44f5-998e-1a9b7e8e3e0b",
   "metadata": {},
   "outputs": [],
   "source": [
    "x = x_valid[:100] # Get a subset of our data"
   ]
  },
  {
   "cell_type": "code",
   "execution_count": 22,
   "id": "08ba2b2d-b606-464d-9f10-6b2ea76af0d7",
   "metadata": {},
   "outputs": [
    {
     "data": {
      "text/plain": [
       "torch.Size([100, 1, 28, 28])"
      ]
     },
     "execution_count": 22,
     "metadata": {},
     "output_type": "execute_result"
    }
   ],
   "source": [
    "x.shape"
   ]
  },
  {
   "cell_type": "code",
   "execution_count": 23,
   "id": "1d249980-33ae-467b-bb15-85fa3c47a819",
   "metadata": {},
   "outputs": [],
   "source": [
    "def stats(x:tensor):\n",
    "    \"Return the mean and std of x\"\n",
    "    return x.mean(), x.std()"
   ]
  },
  {
   "cell_type": "code",
   "execution_count": 24,
   "id": "d6f75d40-627a-46ce-a2ec-df54635e8e9c",
   "metadata": {},
   "outputs": [
    {
     "data": {
      "text/plain": [
       "torch.Size([32, 1, 5, 5])"
      ]
     },
     "execution_count": 24,
     "metadata": {},
     "output_type": "execute_result"
    }
   ],
   "source": [
    "l1.weight.shape"
   ]
  },
  {
   "cell_type": "markdown",
   "id": "2b37d288-95eb-4d42-8e5e-bd011d91ae94",
   "metadata": {},
   "source": [
    "- 32: output shape\n",
    "- 1: one input filter/channel\n",
    "- 5x5: the kernel shape"
   ]
  },
  {
   "cell_type": "code",
   "execution_count": 25,
   "id": "d45630c0-c3c2-4a8a-8748-418cf13100b1",
   "metadata": {},
   "outputs": [
    {
     "data": {
      "text/plain": [
       "((tensor(0.0003, grad_fn=<MeanBackward0>),\n",
       "  tensor(0.1143, grad_fn=<StdBackward0>)),\n",
       " (tensor(0.0509, grad_fn=<MeanBackward0>),\n",
       "  tensor(0.1009, grad_fn=<StdBackward0>)))"
      ]
     },
     "execution_count": 25,
     "metadata": {},
     "output_type": "execute_result"
    }
   ],
   "source": [
    "stats(l1.weight), stats(l1.bias)"
   ]
  },
  {
   "cell_type": "code",
   "execution_count": 26,
   "id": "e8ea7cb9-e417-4994-b7b5-394801c04d64",
   "metadata": {},
   "outputs": [],
   "source": [
    "t = l1(x)"
   ]
  },
  {
   "cell_type": "code",
   "execution_count": 27,
   "id": "0dfc9251-362c-439a-ad91-cca2a933d72f",
   "metadata": {},
   "outputs": [
    {
     "data": {
      "text/plain": [
       "(tensor(0.0514, grad_fn=<MeanBackward0>),\n",
       " tensor(0.5990, grad_fn=<StdBackward0>))"
      ]
     },
     "execution_count": 27,
     "metadata": {},
     "output_type": "execute_result"
    }
   ],
   "source": [
    "stats(t) # want this to be as close to a mean of 0 and std of 1."
   ]
  },
  {
   "attachments": {
    "98e6ec14-eef6-479d-b1fe-bc84ff3ca5a7.png": {
     "image/png": "[encoded data removed]"
    }
   },
   "cell_type": "markdown",
   "id": "f226e5b9-87f7-4402-994d-0265e132acc6",
   "metadata": {},
   "source": [
    "What happens if we use `init._kaiming_normal_`?\n",
    "\n",
    "Kaiming is designed to be used after a leaky ReLU:\n",
    "\n",
    "![image.png](attachment:98e6ec14-eef6-479d-b1fe-bc84ff3ca5a7.png)"
   ]
  },
  {
   "cell_type": "markdown",
   "id": "ef249ed8-5ed8-4715-b75c-80faeba9dcbe",
   "metadata": {},
   "source": [
    "Leaky just means that some value `a` is equal to the slope of the negative numbers from `-inf -> 0`\n",
    "\n",
    "But since we are working with a conv layer, instead it is just a straight line so our leak (`a`) is 1 effectively"
   ]
  },
  {
   "cell_type": "code",
   "execution_count": 28,
   "id": "5d17657f-8118-47e9-900d-ffa5f0b9a68e",
   "metadata": {},
   "outputs": [],
   "source": [
    "from torch.nn import init"
   ]
  },
  {
   "cell_type": "code",
   "execution_count": 29,
   "id": "473311c8-dd48-446d-ac90-3e08659b0365",
   "metadata": {},
   "outputs": [
    {
     "data": {
      "text/plain": [
       "(tensor(0.0498, grad_fn=<MeanBackward0>),\n",
       " tensor(1.1067, grad_fn=<StdBackward0>))"
      ]
     },
     "execution_count": 29,
     "metadata": {},
     "output_type": "execute_result"
    }
   ],
   "source": [
    "init.kaiming_normal_(l1.weight, a=1.) # Because no ReLU\n",
    "stats(l1(x))"
   ]
  },
  {
   "cell_type": "markdown",
   "id": "e0fb8c0f-31fb-47f0-8a6a-706d15de68b0",
   "metadata": {},
   "source": [
    "Kaiming got us close to 0,1. and seems to be working quite well. What happens when we use leaky relu"
   ]
  },
  {
   "cell_type": "code",
   "execution_count": 30,
   "id": "f77141df-bccf-4469-97fe-6b393bf1eee4",
   "metadata": {},
   "outputs": [],
   "source": [
    "import torch.nn.functional as F"
   ]
  },
  {
   "cell_type": "code",
   "execution_count": 31,
   "id": "dd83731a-1d06-45f7-afd3-f41aaff91252",
   "metadata": {},
   "outputs": [],
   "source": [
    "def f1(x, a=0.): return F.leaky_relu(l1(x), a)"
   ]
  },
  {
   "cell_type": "code",
   "execution_count": 32,
   "id": "c11405f6-3ce8-4005-881e-83e86f1fe46b",
   "metadata": {},
   "outputs": [
    {
     "data": {
      "text/plain": [
       "(tensor(0.5116, grad_fn=<MeanBackward0>),\n",
       " tensor(0.8894, grad_fn=<StdBackward0>))"
      ]
     },
     "execution_count": 32,
     "metadata": {},
     "output_type": "execute_result"
    }
   ],
   "source": [
    "init.kaiming_normal_(l1.weight, a=0)\n",
    "stats(f1(x))"
   ]
  },
  {
   "cell_type": "markdown",
   "id": "5542ecd1-aa48-4d5f-8374-09a084159b37",
   "metadata": {},
   "source": [
    "While leaky relu with the default keeps the std at 1, our mean is now half due to getting rid of half the values (those in negative).\n",
    "\n",
    "What happens if we use the torch default?"
   ]
  },
  {
   "cell_type": "code",
   "execution_count": 33,
   "id": "23908b18-710b-44c7-b017-d853f3cf961f",
   "metadata": {},
   "outputs": [
    {
     "data": {
      "text/plain": [
       "(tensor(0.2141, grad_fn=<MeanBackward0>),\n",
       " tensor(0.3855, grad_fn=<StdBackward0>))"
      ]
     },
     "execution_count": 33,
     "metadata": {},
     "output_type": "execute_result"
    }
   ],
   "source": [
    "l1 = nn.Conv2d(1, num_hidden, 5)\n",
    "stats(f1(x))"
   ]
  },
  {
   "cell_type": "markdown",
   "id": "50652d89-7c0e-4517-8459-550251892099",
   "metadata": {},
   "source": [
    "Our stats are infinitly worse now, no where close to the hoped mean or std.\n",
    "\n",
    "What happens if we have a varience < 1? \n",
    "\n",
    "To get the number of matrix multiplications that occur in a conv layer, we need to multiply the output shape by the filter matrix:"
   ]
  },
  {
   "cell_type": "code",
   "execution_count": 34,
   "id": "ac7539c3-b2ca-41fd-aeff-754580330601",
   "metadata": {},
   "outputs": [
    {
     "data": {
      "text/plain": [
       "torch.Size([32, 1, 5, 5])"
      ]
     },
     "execution_count": 34,
     "metadata": {},
     "output_type": "execute_result"
    }
   ],
   "source": [
    "l1.weight.shape"
   ]
  },
  {
   "cell_type": "code",
   "execution_count": 35,
   "id": "0a8d55f7-b429-4603-91f0-d45e511e6843",
   "metadata": {},
   "outputs": [
    {
     "data": {
      "text/plain": [
       "800"
      ]
     },
     "execution_count": 35,
     "metadata": {},
     "output_type": "execute_result"
    }
   ],
   "source": [
    "32*5*5 # 800 total matrix multiplications for this individual layer"
   ]
  },
  {
   "cell_type": "markdown",
   "id": "14d8b13b-0feb-455c-b872-5e3598a773e8",
   "metadata": {},
   "source": [
    "#### Code"
   ]
  },
  {
   "cell_type": "code",
   "execution_count": 36,
   "id": "e9c43163-f470-4c07-b8ee-b6b67c810397",
   "metadata": {},
   "outputs": [
    {
     "data": {
      "text/plain": [
       "25"
      ]
     },
     "execution_count": 36,
     "metadata": {},
     "output_type": "execute_result"
    }
   ],
   "source": [
    "receptive_field_size = l1.weight[0,0].numel()\n",
    "receptive_field_size"
   ]
  },
  {
   "cell_type": "code",
   "execution_count": 37,
   "id": "87a15b02-591f-4d54-877a-4aef3cc907ab",
   "metadata": {},
   "outputs": [
    {
     "data": {
      "text/plain": [
       "torch.Size([5, 5])"
      ]
     },
     "execution_count": 37,
     "metadata": {},
     "output_type": "execute_result"
    }
   ],
   "source": [
    "l1.weight[0,0].shape"
   ]
  },
  {
   "cell_type": "markdown",
   "id": "0e06cd2b-aeee-408b-98ba-873f54805d6f",
   "metadata": {},
   "source": [
    "#### Explanation"
   ]
  },
  {
   "cell_type": "code",
   "execution_count": 38,
   "id": "d678e2bb-85af-4264-953e-cc1c1e447c4d",
   "metadata": {},
   "outputs": [],
   "source": [
    "{\n",
    "    \"l1.weight[0,0]\": \"Grab the first matrix in the conv\",\n",
    "    \".numel()\":\"Get the total size of that matrix's individual squares\",\n",
    "    \"receptive_field_size\": \"How many elements are in the kernel\"\n",
    "};"
   ]
  },
  {
   "cell_type": "code",
   "execution_count": 39,
   "id": "0b19a259-9b7a-47ff-9e9f-430ed9379e95",
   "metadata": {},
   "outputs": [
    {
     "data": {
      "text/plain": [
       "(32, 1)"
      ]
     },
     "execution_count": 39,
     "metadata": {},
     "output_type": "execute_result"
    }
   ],
   "source": [
    "num_output_filters, num_input_filters, *_ = l1.weight.shape\n",
    "num_output_filters, num_input_filters"
   ]
  },
  {
   "cell_type": "code",
   "execution_count": 40,
   "id": "4d663e39-5164-4ff1-8d77-224873e60dbe",
   "metadata": {},
   "outputs": [
    {
     "data": {
      "text/plain": [
       "(25, 800)"
      ]
     },
     "execution_count": 40,
     "metadata": {},
     "output_type": "execute_result"
    }
   ],
   "source": [
    "fan_in = num_input_filters * receptive_field_size\n",
    "fan_out = num_output_filters * receptive_field_size\n",
    "fan_in, fan_out"
   ]
  },
  {
   "cell_type": "code",
   "execution_count": 41,
   "id": "6d0da27f-e2b0-4dc6-be13-d01bcb024415",
   "metadata": {},
   "outputs": [],
   "source": [
    "def gain(a:float):\n",
    "    \"Calculates the size of the gain during kaiming init\"\n",
    "    return math.sqrt(2. / (1+a**2))"
   ]
  },
  {
   "cell_type": "code",
   "execution_count": 42,
   "id": "5088ca34-64f6-4f3d-9ed2-ae7c32d3a5b9",
   "metadata": {},
   "outputs": [
    {
     "data": {
      "text/plain": [
       "(1.0,\n",
       " 1.4142135623730951,\n",
       " 1.4141428569978354,\n",
       " 1.4071950894605838,\n",
       " 0.5773502691896257)"
      ]
     },
     "execution_count": 42,
     "metadata": {},
     "output_type": "execute_result"
    }
   ],
   "source": [
    "gain(1), gain(0), gain(0.01), gain(0.1), gain(math.sqrt(5))"
   ]
  },
  {
   "cell_type": "markdown",
   "id": "f843ad1d-b0fe-4d49-8000-cd936ed76387",
   "metadata": {},
   "source": [
    "With a slope of 1, the gain is 1 as it's linear. With a slope of < 1, it will approach root 2:"
   ]
  },
  {
   "cell_type": "code",
   "execution_count": 43,
   "id": "94e58199-2f32-4106-ba5f-8bd6384a4b2c",
   "metadata": {},
   "outputs": [
    {
     "data": {
      "text/plain": [
       "1.4142135623730951"
      ]
     },
     "execution_count": 43,
     "metadata": {},
     "output_type": "execute_result"
    }
   ],
   "source": [
    "math.sqrt(2)"
   ]
  },
  {
   "attachments": {
    "9a591699-65a9-45e2-8a42-64bbba8664e2.png": {
     "image/png": "[encoded data removed]"
    }
   },
   "cell_type": "markdown",
   "id": "11cee658-3772-434c-b9cc-066ee4976b7e",
   "metadata": {},
   "source": [
    "With sqrt(5) it is far away from the gain we were expecting, which isn't good.\n",
    "\n",
    "However it doesn't use kaiming normal, it uses kaiming uniform. \n",
    "\n",
    "- Key: Blue is normal, Red is uniform\n",
    "\n",
    "![image.png](attachment:9a591699-65a9-45e2-8a42-64bbba8664e2.png)"
   ]
  },
  {
   "cell_type": "markdown",
   "id": "e17ba9a8-490e-43f0-b2d3-053df25cd43d",
   "metadata": {},
   "source": [
    "What is the std of a uniform distribution?"
   ]
  },
  {
   "cell_type": "code",
   "execution_count": 44,
   "id": "89dcba78-1737-442b-ab63-51aa8281c0d9",
   "metadata": {},
   "outputs": [
    {
     "data": {
      "text/plain": [
       "tensor(0.5805)"
      ]
     },
     "execution_count": 44,
     "metadata": {},
     "output_type": "execute_result"
    }
   ],
   "source": [
    "import torch\n",
    "torch.zeros(10_000).uniform_(-1,1).std()"
   ]
  },
  {
   "cell_type": "markdown",
   "id": "418263e1-2a54-45b2-a6b3-98d4ea9ac1b9",
   "metadata": {},
   "source": [
    "It's std is .57, or 1/sqrt(3.):"
   ]
  },
  {
   "cell_type": "code",
   "execution_count": 45,
   "id": "4a7f7cd9-403e-4501-9724-9e818f33f6db",
   "metadata": {},
   "outputs": [
    {
     "data": {
      "text/plain": [
       "0.5773502691896258"
      ]
     },
     "execution_count": 45,
     "metadata": {},
     "output_type": "execute_result"
    }
   ],
   "source": [
    "1/math.sqrt(3.)"
   ]
  },
  {
   "cell_type": "markdown",
   "id": "6e8f5b40-989c-4ee8-aac5-4cf52d691c8a",
   "metadata": {},
   "source": [
    "#### Code"
   ]
  },
  {
   "cell_type": "code",
   "execution_count": 46,
   "id": "67af2ca0-bec5-4deb-9ea4-23d272655bcc",
   "metadata": {},
   "outputs": [],
   "source": [
    "# Refactor into our own\n",
    "def kaiming_v2(x, a, use_fan_out=False):\n",
    "    num_out_filters, num_input_filters, *_ = x.shape\n",
    "    receptive_field_size = x[0,0].shape.numel()\n",
    "    if use_fan_out:\n",
    "        fan = num_out_filters * receptive_field_size\n",
    "    else:\n",
    "        fan = num_input_filters * receptive_field_size\n",
    "    std = gain(a) / math.sqrt(fan)\n",
    "    bound = math.sqrt(3.) * std\n",
    "    x.data.uniform_(-bound, bound)"
   ]
  },
  {
   "cell_type": "markdown",
   "id": "27448255-95ff-4371-a6d4-9d2cbfa04cb0",
   "metadata": {},
   "source": [
    "#### Explanation"
   ]
  },
  {
   "cell_type": "code",
   "execution_count": 47,
   "id": "52891c11-bd31-4632-8191-f434701b9de3",
   "metadata": {},
   "outputs": [],
   "source": [
    "{\n",
    "    \"receptive_field_size = x[0,0].shape.numel()\": \"Calculate the total squares in our usable matrix\",\n",
    "    \"std = gain(a)/math.sqrt(fan)\":\"Calculate the standard deviation of `a` based on `fan`\",\n",
    "    \"bound = math.sqrt(3.) * std\": \"Given we know it's a uniform distribution, calculate the upper and lower bounds\",\n",
    "    \"x.data.uniform_(-bound, bound)\": \"Apply the newfound bounds to the data inplace\"\n",
    "};"
   ]
  },
  {
   "cell_type": "code",
   "execution_count": 48,
   "id": "285ee886-0d44-4b17-bb53-e6b0d83ebd6a",
   "metadata": {},
   "outputs": [
    {
     "data": {
      "text/plain": [
       "(tensor(0.5162, grad_fn=<MeanBackward0>),\n",
       " tensor(0.8743, grad_fn=<StdBackward0>))"
      ]
     },
     "execution_count": 48,
     "metadata": {},
     "output_type": "execute_result"
    }
   ],
   "source": [
    "kaiming_v2(l1.weight, a=0)\n",
    "stats(f1(x))"
   ]
  },
  {
   "cell_type": "markdown",
   "id": "f2d2c84f-c28e-44a2-9b34-a73e8b89f5b8",
   "metadata": {},
   "source": [
    "Varience of about 1, and a mean of .5, the expected, What happens if I do it with sqrt(5)?"
   ]
  },
  {
   "cell_type": "code",
   "execution_count": 49,
   "id": "4eb95902-d017-4ac7-b918-ddf74b439c1f",
   "metadata": {},
   "outputs": [
    {
     "data": {
      "text/plain": [
       "(tensor(0.0986, grad_fn=<MeanBackward0>),\n",
       " tensor(0.1791, grad_fn=<StdBackward0>))"
      ]
     },
     "execution_count": 49,
     "metadata": {},
     "output_type": "execute_result"
    }
   ],
   "source": [
    "kaiming_v2(l1.weight, a=5)\n",
    "stats(f1(x))"
   ]
  },
  {
   "cell_type": "markdown",
   "id": "dd016222-c7d6-46d8-9c2e-a48bf23c137d",
   "metadata": {},
   "source": [
    "We'd expect to get the same as the pytorch default, which we have done. But what does this really look like?"
   ]
  },
  {
   "cell_type": "code",
   "execution_count": 50,
   "id": "f9b4bee9-c07c-43ee-b267-cf5c29a52f83",
   "metadata": {},
   "outputs": [],
   "source": [
    "class Flatten(nn.Module):\n",
    "    \"A small layer which will flatten `x` by the last axis\"\n",
    "    def forward(self, x): \n",
    "        return x.view(-1)"
   ]
  },
  {
   "cell_type": "code",
   "execution_count": 51,
   "id": "8c1b5db6-d035-42e9-8035-af5284680c4c",
   "metadata": {},
   "outputs": [],
   "source": [
    "def get_model():\n",
    "    m = nn.Sequential(\n",
    "        nn.Conv2d(1,8,5, stride=2, padding=2), nn.ReLU(),\n",
    "        nn.Conv2d(8,16,3, stride=2, padding=1), nn.ReLU(),\n",
    "        nn.Conv2d(16,32,3, stride=2, padding=1), nn.ReLU(),\n",
    "        nn.Conv2d(32, 1, 3, stride=2, padding=1),\n",
    "        nn.AdaptiveAvgPool2d(1),\n",
    "        Flatten()\n",
    "    )\n",
    "    return m\n",
    "\n",
    "m = get_model()"
   ]
  },
  {
   "cell_type": "markdown",
   "id": "bd27dd00-6536-4b6d-a35a-7c67ed92876f",
   "metadata": {},
   "source": [
    "We create a super small test model of 4 conv layers + ReLU with a pooling layer and flattening."
   ]
  },
  {
   "cell_type": "code",
   "execution_count": 52,
   "id": "859bee29-f38a-46dc-9e9b-c0dbd26cecd9",
   "metadata": {},
   "outputs": [],
   "source": [
    "y = y_valid[:100].float() # Grab the labels for our subset of `x`"
   ]
  },
  {
   "cell_type": "markdown",
   "id": "7075ff54-b62e-4f69-aa14-23f76c4898ea",
   "metadata": {},
   "source": [
    "Next we run it through the whole convnet and take the stats of our result:"
   ]
  },
  {
   "cell_type": "code",
   "execution_count": 53,
   "id": "eb285586-7cb0-4682-9520-d85665a8151f",
   "metadata": {},
   "outputs": [
    {
     "data": {
      "text/plain": [
       "(tensor(0.0161, grad_fn=<MeanBackward0>),\n",
       " tensor(0.0103, grad_fn=<StdBackward0>))"
      ]
     },
     "execution_count": 53,
     "metadata": {},
     "output_type": "execute_result"
    }
   ],
   "source": [
    "t = m(x)\n",
    "stats(t)"
   ]
  },
  {
   "cell_type": "markdown",
   "id": "8c353826-a6ed-4a33-a007-04511ebc4475",
   "metadata": {},
   "source": [
    "When using the default PyTorch init, the varience is almost 0. The first layer and last layers now have a huge difference."
   ]
  },
  {
   "cell_type": "code",
   "execution_count": 54,
   "id": "c401ed91-0e14-45f1-ba7f-0ef9678c55c1",
   "metadata": {},
   "outputs": [],
   "source": [
    "loss = mse(t,y)\n",
    "loss.backward()"
   ]
  },
  {
   "cell_type": "code",
   "execution_count": 55,
   "id": "652249e9-d6b5-4d49-9757-afb655128189",
   "metadata": {},
   "outputs": [
    {
     "data": {
      "text/plain": [
       "(tensor(-0.0114), tensor(0.0453))"
      ]
     },
     "execution_count": 55,
     "metadata": {},
     "output_type": "execute_result"
    }
   ],
   "source": [
    "stats(m[0].weight.grad)"
   ]
  },
  {
   "cell_type": "markdown",
   "id": "e2094950-c9c2-4020-a177-99e5994eb7aa",
   "metadata": {},
   "source": [
    "Post backward, std of the weights is still nowhere near one.\n",
    "\n",
    "What happens if we use kaiming uniform?"
   ]
  },
  {
   "cell_type": "code",
   "execution_count": 56,
   "id": "4ed3e456-9bca-4060-877f-52f36f2eb636",
   "metadata": {},
   "outputs": [],
   "source": [
    "m = get_model()"
   ]
  },
  {
   "cell_type": "markdown",
   "id": "7f48074f-eca4-46f6-b809-df464c64a59f",
   "metadata": {},
   "source": [
    "#### Code"
   ]
  },
  {
   "cell_type": "code",
   "execution_count": 57,
   "id": "f6300eeb-2ccf-4ae7-8b23-2b943a382ff6",
   "metadata": {},
   "outputs": [],
   "source": [
    "for layer in m:\n",
    "    if isinstance(layer, nn.Conv2d):\n",
    "        init.kaiming_uniform_(layer.weight)\n",
    "        layer.bias.data.zero_()"
   ]
  },
  {
   "cell_type": "markdown",
   "id": "cf39f78a-7216-4f9f-b43b-94bdc25b35b3",
   "metadata": {},
   "source": [
    "#### Explanation"
   ]
  },
  {
   "cell_type": "code",
   "execution_count": 58,
   "id": "cc929a0f-9d52-4f58-83a2-ecd0c8f54ae4",
   "metadata": {},
   "outputs": [],
   "source": [
    "{\n",
    "    \"init.kaiming_uniform_\":\"If it's a conv layer, initialize with kaiming uniform\",\n",
    "    \"layer.bias.data.zero_()\":\"Afterwards the bias of the data is zeroed out\"\n",
    "};"
   ]
  },
  {
   "cell_type": "code",
   "execution_count": 59,
   "id": "366367f3-c0ba-47d3-b20f-5afe8b9e5594",
   "metadata": {},
   "outputs": [
    {
     "data": {
      "text/plain": [
       "(tensor(-0.0386, grad_fn=<MeanBackward0>),\n",
       " tensor(0.3797, grad_fn=<StdBackward0>))"
      ]
     },
     "execution_count": 59,
     "metadata": {},
     "output_type": "execute_result"
    }
   ],
   "source": [
    "t = m(x)\n",
    "stats(t)"
   ]
  },
  {
   "cell_type": "markdown",
   "id": "92e36fc8-59db-403a-851a-66aef1654f69",
   "metadata": {},
   "source": [
    "It's not terrible, much better than the .001 we had earlier. What happens after the backward?"
   ]
  },
  {
   "cell_type": "code",
   "execution_count": 60,
   "id": "0151d950-40e9-44b4-898e-6c3caaac27e8",
   "metadata": {},
   "outputs": [
    {
     "data": {
      "text/plain": [
       "(tensor(-0.1251), tensor(0.6223))"
      ]
     },
     "execution_count": 60,
     "metadata": {},
     "output_type": "execute_result"
    }
   ],
   "source": [
    "loss = mse(t,y)\n",
    "loss.backward()\n",
    "stats(m[0].weight.grad)"
   ]
  },
  {
   "cell_type": "markdown",
   "id": "e30aaea6-0f9b-4043-96d2-e8ed049a859f",
   "metadata": {},
   "source": [
    "Are stats are now doing much better than before, with a mean of 0 and a std approaching .5 much more.\n",
    "\n",
    "From here, read [This Notebook](https://muellerzr.github.io/fastai-2019-pt2-notes/why_good_init) and come back"
   ]
  },
  {
   "cell_type": "markdown",
   "id": "1d8e10af-f814-41fc-858c-eb04cea25163",
   "metadata": {},
   "source": [
    "## To twitter we go\n",
    "\n",
    "Jeremy pinged on twitter asking why this exists. Soumith Chintala answered that this was a historical accident that was never published, but was always in the torch code for the last ~15 years as it was deemed a good bug.\n",
    "\n",
    "After Jeremy pointed out the issue, the torch team opened an issue to fix it. \n",
    "\n",
    "Moral of the story:\n",
    "\n",
    "> Don't blindly trust a popular library's thing, ask questions and run analysis. It could be a bug that's negatively impacting performance without realizing it"
   ]
  },
  {
   "cell_type": "markdown",
   "id": "69e68c92",
   "metadata": {},
   "source": []
  }
 ],
 "metadata": {
  "kernelspec": {
   "display_name": "Python 3 (ipykernel)",
   "language": "python",
   "name": "python3"
  },
  "language_info": {
   "codemirror_mode": {
    "name": "ipython",
    "version": 3
   },
   "file_extension": ".py",
   "mimetype": "text/x-python",
   "name": "python",
   "nbconvert_exporter": "python",
   "pygments_lexer": "ipython3",
   "version": "3.9.16"
  }
 },
 "nbformat": 4,
 "nbformat_minor": 5
}
