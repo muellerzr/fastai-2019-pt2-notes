{
 "cells": [
  {
   "cell_type": "code",
   "execution_count": null,
   "id": "23bdb47a-a298-436a-b8b5-5906239b619e",
   "metadata": {},
   "outputs": [],
   "source": [
    "#default_exp nb_01"
   ]
  },
  {
   "cell_type": "markdown",
   "id": "0bb3f861-ace5-45c8-a704-216f92850da4",
   "metadata": {},
   "source": [
    "# Impractical Deep Learning for Coders Lesson 1, Matrix Multiplication (part 1)\n",
    "> Implementing matrix multiplication from scratch"
   ]
  },
  {
   "cell_type": "markdown",
   "id": "d04c4af5-b324-4aca-aa33-691144747ed1",
   "metadata": {},
   "source": [
    "The game: Recreate fastai, while only being able to use:\n",
    "\n",
    "- Python\n",
    "- Python stdlib\n",
    "- Non-data science modules\n",
    "- PyTorch array creation, RNG, and indexing\n",
    "- `datasets`\n",
    "- matplotlib\n",
    "\n",
    "The game I will also be playing:\n",
    "\n",
    "- Do this while also trying experimental note annotation\n",
    "- Would I have done a different decision in implementing something than Jeremy has? If so, **do it!**\n",
    "- **No `import *`**"
   ]
  },
  {
   "cell_type": "markdown",
   "id": "4b7800bd-a2f8-4bf1-9fcb-be1d2c0328e3",
   "metadata": {},
   "source": [
    "> The difference between effective people in Deep Learning and the rest is who can make things in code that can work properly, and there's very few of those people - Jeremy Howard"
   ]
  },
  {
   "cell_type": "markdown",
   "id": "ea790a87-abf1-435e-89e0-b660b2df00cb",
   "metadata": {},
   "source": [
    "3 steps to training a really good model:\n",
    "\n",
    "1. Overfit a model -- validation error increases\n",
    "2. Reduce overfitting\n",
    "3. There is no step 3 -- jk, experiment and toy with\n",
    "\n",
    "How to avoid overfitting from A -> F\n",
    "\n",
    "1. Get more data\n",
    "2. Perform more data augmentation\n",
    "3. Use a more generalizable architecture\n",
    "4. Try adding regularization (DropOut, wd)\n",
    "5. Reduce architecture complexity\n",
    "\n",
    "4 & 5 both have the least impact, start with the first 3"
   ]
  },
  {
   "cell_type": "code",
   "execution_count": 1,
   "id": "9cd3b8dd-5faf-4ab0-acd6-68fae8db4109",
   "metadata": {},
   "outputs": [],
   "source": [
    "#export\n",
    "from pathlib import Path\n",
    "from IPython.core.debugger import set_trace\n",
    "import pickle, gzip, math, torch, matplotlib as mpl\n",
    "import matplotlib.pyplot as plt\n",
    "from torch import tensor\n",
    "from fastcore.test import test_eq, test_close\n",
    "\n",
    "from fastdownload import FastDownload"
   ]
  },
  {
   "cell_type": "markdown",
   "id": "6cf8704f-6fa6-47cc-a60f-4d9c236e252b",
   "metadata": {},
   "source": [
    "First we need to download the dataset we are using, which will be MNIST"
   ]
  },
  {
   "cell_type": "code",
   "execution_count": null,
   "id": "da9ef656-c833-4862-a6a0-66ada586fc50",
   "metadata": {},
   "outputs": [],
   "source": [
    "#export\n",
    "MNIST_URL = \"https://figshare.com/ndownloader/files/25635053\""
   ]
  },
  {
   "cell_type": "markdown",
   "id": "1ee765b0-0c93-4209-9688-916129ea89a0",
   "metadata": {},
   "source": [
    "#### Code"
   ]
  },
  {
   "cell_type": "code",
   "execution_count": 2,
   "id": "c8a35542-78a5-4107-9b98-9986d66fc6f7",
   "metadata": {},
   "outputs": [],
   "source": [
    "url = \"https://figshare.com/ndownloader/files/25635053\"\n",
    "fd = FastDownload(base=\"~/.fastai\")"
   ]
  },
  {
   "cell_type": "code",
   "execution_count": 3,
   "id": "9c3045d5-0809-470e-af20-49a04f63f800",
   "metadata": {},
   "outputs": [
    {
     "data": {
      "text/plain": [
       "Path('/home/zach/.fastai/archive/25635053')"
      ]
     },
     "execution_count": 3,
     "metadata": {},
     "output_type": "execute_result"
    }
   ],
   "source": [
    "path = fd.download(url); path"
   ]
  },
  {
   "cell_type": "markdown",
   "id": "3aec3b14-fee5-4d72-804a-1cb9d350cf11",
   "metadata": {},
   "source": [
    "#### Explanation\n"
   ]
  },
  {
   "cell_type": "code",
   "execution_count": 4,
   "id": "06b98fa7-00c7-4c81-9b66-faa3fed0d0f6",
   "metadata": {},
   "outputs": [],
   "source": [
    "{\n",
    "    \"https://figshare.com/ndownloader/files/25635053\": \"deeplearning.net is no longer up, so we use a version of Yann LeCun's dataset\",\n",
    "    \"FastDownload(base='~/.fastai')\": \"We utilize fastdownload's `FastDownload` class to handle the downloading of the data. `from fastai import datasets` is no longer a thing.\",\n",
    "    \"fd.download(url)\": \"Perform the actual downloading\"\n",
    "};"
   ]
  },
  {
   "cell_type": "code",
   "execution_count": 5,
   "id": "0209b9a2-8438-4e7b-aaba-d262502468d6",
   "metadata": {},
   "outputs": [],
   "source": [
    "with gzip.open(path, 'rb') as f:\n",
    "    ((x_train,y_train), (x_valid, y_valid), _) = pickle.load(f, encoding='latin-1')"
   ]
  },
  {
   "cell_type": "markdown",
   "id": "928eeff5-4640-453e-8f7a-992d996319fd",
   "metadata": {},
   "source": [
    "The downloaded data contains `numpy` arrays, which are not allowed so they must be converted to tensors"
   ]
  },
  {
   "cell_type": "markdown",
   "id": "ffbba7fe-0624-4390-8678-9bdcf2a40eb4",
   "metadata": {},
   "source": [
    "#### Code"
   ]
  },
  {
   "cell_type": "code",
   "execution_count": 6,
   "id": "4699d7b5-75ff-48b8-b7a0-9a8769bd4c09",
   "metadata": {},
   "outputs": [],
   "source": [
    "x_train,y_train,x_valid,y_valid = map(tensor, (x_train,y_train,x_valid,y_valid))\n",
    "n,c = x_train.shape"
   ]
  },
  {
   "cell_type": "code",
   "execution_count": 7,
   "id": "e2d93133-153a-4ee2-84ac-1bd0fbd48545",
   "metadata": {},
   "outputs": [
    {
     "data": {
      "text/plain": [
       "(tensor([[0., 0., 0.,  ..., 0., 0., 0.],\n",
       "         [0., 0., 0.,  ..., 0., 0., 0.],\n",
       "         [0., 0., 0.,  ..., 0., 0., 0.],\n",
       "         ...,\n",
       "         [0., 0., 0.,  ..., 0., 0., 0.],\n",
       "         [0., 0., 0.,  ..., 0., 0., 0.],\n",
       "         [0., 0., 0.,  ..., 0., 0., 0.]]),\n",
       " torch.Size([50000, 784]),\n",
       " tensor([5, 0, 4,  ..., 8, 4, 8]),\n",
       " torch.Size([50000]),\n",
       " tensor(0),\n",
       " tensor(9))"
      ]
     },
     "execution_count": 7,
     "metadata": {},
     "output_type": "execute_result"
    }
   ],
   "source": [
    "x_train, x_train.shape, y_train, y_train.shape, y_train.min(), y_train.max()"
   ]
  },
  {
   "cell_type": "markdown",
   "id": "064704cc-7da4-41aa-9920-b45c8f4306f5",
   "metadata": {},
   "source": [
    "#### Explanation"
   ]
  },
  {
   "cell_type": "code",
   "execution_count": 8,
   "id": "9e29bdde-d85c-457b-b9ae-711c18cd7f30",
   "metadata": {},
   "outputs": [],
   "source": [
    "{\n",
    "    \"map(tensor, (x_train,y_train,x_valid,y_valid))\": \"Applys `torch.tensor` across the four arrays, converting them all into tensors\",\n",
    "    \"n,c = x_train.shape\": \"`n` = the number of rows in the training set, `c` = the number of columns in the training set\"\n",
    "};"
   ]
  },
  {
   "cell_type": "markdown",
   "id": "31dde0ca-dc0d-4cdd-b950-499f306dd74c",
   "metadata": {},
   "source": [
    "#### Code"
   ]
  },
  {
   "cell_type": "code",
   "execution_count": 9,
   "id": "a9fa13a6-dd6c-4f9e-b0b6-3a65c66cff67",
   "metadata": {},
   "outputs": [],
   "source": [
    "assert n==y_train.shape[0]==50000\n",
    "test_eq(c, 28*28)\n",
    "test_eq(y_train.min(),0)\n",
    "test_eq(y_train.max(),9)"
   ]
  },
  {
   "cell_type": "markdown",
   "id": "e18e81f1-de0c-47a7-9230-529bfe540063",
   "metadata": {},
   "source": [
    "#### Explanation"
   ]
  },
  {
   "cell_type": "code",
   "execution_count": 10,
   "id": "c13d816f-9994-43be-8f07-e812fd5b8163",
   "metadata": {},
   "outputs": [],
   "source": [
    "{\n",
    "    \"assert n==y_train.shape[0]==50000\": \"Verify there are 50,000 items in the dataset\",\n",
    "    \"test_eq(c, 28*28)\": \"Verify that each item is 28x28 numbers\",\n",
    "    \"test_eq(y_train.min(),0)\": \"Verify the lowest class in the y labels is 0\",\n",
    "    \"test_eq(y_train.max(),9)\": \"Verify the highest class in the y labels is 9\"\n",
    "};"
   ]
  },
  {
   "cell_type": "markdown",
   "id": "6bf7297d-f745-4121-b935-3bac8c2ce7c3",
   "metadata": {},
   "source": [
    "#### Code"
   ]
  },
  {
   "cell_type": "code",
   "execution_count": 11,
   "id": "d7a4372a-6c4f-43c1-8462-4fe99183cd12",
   "metadata": {},
   "outputs": [],
   "source": [
    "mpl.rcParams[\"image.cmap\"] = 'gray'\n",
    "img = x_train[0]\n",
    "assert img.view(28,28).type() == 'torch.FloatTensor'"
   ]
  },
  {
   "cell_type": "markdown",
   "id": "0897470d-9e4f-4196-9b02-731b638b7c58",
   "metadata": {},
   "source": [
    "#### Explanation"
   ]
  },
  {
   "cell_type": "code",
   "execution_count": 12,
   "id": "ed0d4e51-8c88-4d99-89ea-879e61e1be72",
   "metadata": {},
   "outputs": [],
   "source": [
    "{\n",
    "    \"img = x_train[0]\": \"Get one set of data from the dataset\",\n",
    "    \"img.view(28,28).type()\": \"Check after viewing it as a 28,28 (more on this next) that the type is still a FloatTensor\"\n",
    "};"
   ]
  },
  {
   "cell_type": "markdown",
   "id": "1104749e-22d7-4460-8c45-e99620a734b9",
   "metadata": {},
   "source": [
    "#### Code"
   ]
  },
  {
   "cell_type": "code",
   "execution_count": 13,
   "id": "f8bfe13e-72c8-40c5-8748-d4d44de8d4ea",
   "metadata": {},
   "outputs": [
    {
     "data": {
      "image/png": "[encoded data removed]",
      "text/plain": [
       "<Figure size 640x480 with 1 Axes>"
      ]
     },
     "metadata": {},
     "output_type": "display_data"
    }
   ],
   "source": [
    "plt.imshow(img.view((28,28)));"
   ]
  },
  {
   "cell_type": "markdown",
   "id": "7b490e96-b8c7-47b4-8ec9-19a1b0c57275",
   "metadata": {},
   "source": [
    "#### Explanation"
   ]
  },
  {
   "cell_type": "code",
   "execution_count": 14,
   "id": "9727a26a-da97-45a5-bb15-e7b56645aa9a",
   "metadata": {},
   "outputs": [],
   "source": [
    "{\n",
    "    \"img.view((28,28))\": \"Reshape our 168 long vector into a 28x28 matrix\"\n",
    "};"
   ]
  },
  {
   "cell_type": "code",
   "execution_count": 15,
   "id": "981faebf-dd7d-4cd7-a0b5-0cdd3ca4ae9c",
   "metadata": {},
   "outputs": [
    {
     "data": {
      "image/png": "[encoded data removed]",
      "text/plain": [
       "<Figure size 640x480 with 1 Axes>"
      ]
     },
     "metadata": {},
     "output_type": "display_data"
    }
   ],
   "source": [
    "#hide_input\n",
    "plt.imshow(img.view((28,28)));"
   ]
  },
  {
   "cell_type": "markdown",
   "id": "4a8764e9-efce-47a0-92f4-61b597e769d8",
   "metadata": {},
   "source": [
    "## Initial python model\n",
    "\n",
    "Create a simple linear model, of something akin to `y=ax+b`"
   ]
  },
  {
   "cell_type": "markdown",
   "id": "54df4536-6796-4df2-aae8-622ea001b5d2",
   "metadata": {},
   "source": [
    "#### Code"
   ]
  },
  {
   "cell_type": "code",
   "execution_count": 16,
   "id": "2620bf11-e268-42b4-aa8d-1d26947af30c",
   "metadata": {},
   "outputs": [],
   "source": [
    "weights = torch.randn(784,10)\n",
    "bias = torch.zeros(10)"
   ]
  },
  {
   "cell_type": "markdown",
   "id": "5c156795-5cef-4dd2-938d-8f1d99fc61ea",
   "metadata": {},
   "source": [
    "#### Explanation"
   ]
  },
  {
   "cell_type": "code",
   "execution_count": 17,
   "id": "e7119a7d-01cc-4042-926d-7d610401098f",
   "metadata": {},
   "outputs": [],
   "source": [
    "{\n",
    "    \"torch.randn(784,10)\": \"This operates as `a`, a 784x10 matrix where 784==length of the array, 10==num going out\",\n",
    "    \"torch.zeros(10)\": \"The bias will just start as 10 zeros\"\n",
    "};"
   ]
  },
  {
   "cell_type": "markdown",
   "id": "643b046c-7f43-4053-b4d5-24a0dc21c4a7",
   "metadata": {
    "tags": []
   },
   "source": [
    "### Matrix Multiplication\n",
    "\n",
    "Core of the basic of machine learning, \"affine functions\".\n",
    "\n",
    "[Cool website to visualize](https://matrixmultiplication.xyz)"
   ]
  },
  {
   "cell_type": "markdown",
   "id": "4b46d6c4-0a4a-4e31-ba60-65a6f7e2a8e7",
   "metadata": {},
   "source": [
    "#### Code"
   ]
  },
  {
   "cell_type": "code",
   "execution_count": 18,
   "id": "3dd13936-0c07-4c93-b17d-f28209d0b448",
   "metadata": {},
   "outputs": [],
   "source": [
    "def matmul(a,b):\n",
    "    ar,ac = a.shape\n",
    "    br,bc = b.shape\n",
    "    assert ac==br\n",
    "    c = torch.zeros(ar,bc)\n",
    "    for i in range(ar):\n",
    "        for j in range(bc):\n",
    "            for k in range(ac): # or br\n",
    "                c[i,j] += a[i,k] * b[k,j]\n",
    "    return c"
   ]
  },
  {
   "cell_type": "markdown",
   "id": "cea8a64e-ddcb-4c31-9cb3-dd73c1ffc21f",
   "metadata": {},
   "source": [
    "#### Explanation"
   ]
  },
  {
   "cell_type": "code",
   "execution_count": 19,
   "id": "cabed095-abc2-4e0a-81f0-34ecf359fef3",
   "metadata": {},
   "outputs": [],
   "source": [
    "{\n",
    "    \"(a,b)\": \"`a` and `b` are two matricies which should be multiplied\",\n",
    "    \"assert ac==br\": \"Matrix multiplication cannot occur unless the number of columns in `a` aligns with the number of rows in `b`\",\n",
    "    \"c\":\"`c` is the resulting matrix, which has a shape of `a`'s rows and `b`'s columns\",\n",
    "    \"for i in range(ar):\": \"Loop of matrix B as a whole scrolling down matrix A *sideways*, imagine going row by row like a curtain coming down slowly\",\n",
    "    \"for j in range(bc):\": \"Loop of each column in matrix B at each row in matrix A\",\n",
    "    \"for k in range(ac):\": \"The actual loop of multiplying and adding (matrix multiplication)\",\n",
    "    \"c[i,j] += a[i,k] * b[k,j]\": \"The actual multiplication being performed\"\n",
    "};"
   ]
  },
  {
   "cell_type": "markdown",
   "id": "fa64a242-751b-445b-bd3a-b8ba097f3e49",
   "metadata": {},
   "source": [
    "#### Code"
   ]
  },
  {
   "cell_type": "code",
   "execution_count": 20,
   "id": "4a55e8c6-7f98-4ed7-8afa-dbb61e7a9723",
   "metadata": {},
   "outputs": [],
   "source": [
    "m1 = x_valid[:5]\n",
    "m2 = weights"
   ]
  },
  {
   "cell_type": "markdown",
   "id": "f23caf47-7c62-4798-b344-328beef75a90",
   "metadata": {},
   "source": [
    "#### Explanation"
   ]
  },
  {
   "cell_type": "code",
   "execution_count": 21,
   "id": "9fa966be-fa9c-4e91-8ab8-e05a39e53a28",
   "metadata": {},
   "outputs": [],
   "source": [
    "{\n",
    "    \"m1\": \"Five rows of the validation set\",\n",
    "    \"m2\": \"Weight matrix\"\n",
    "};"
   ]
  },
  {
   "cell_type": "code",
   "execution_count": 22,
   "id": "6adc52e5-484d-4ba9-beab-8d2a8f3e340b",
   "metadata": {},
   "outputs": [
    {
     "data": {
      "text/plain": [
       "(torch.Size([5, 784]), torch.Size([784, 10]))"
      ]
     },
     "execution_count": 22,
     "metadata": {},
     "output_type": "execute_result"
    }
   ],
   "source": [
    "m1.shape, m2.shape"
   ]
  },
  {
   "cell_type": "code",
   "execution_count": 23,
   "id": "f270bdde-993e-4160-80fb-a5705a8da302",
   "metadata": {},
   "outputs": [
    {
     "name": "stdout",
     "output_type": "stream",
     "text": [
      "CPU times: user 440 ms, sys: 72.4 ms, total: 513 ms\n",
      "Wall time: 421 ms\n"
     ]
    }
   ],
   "source": [
    "%time t1=matmul(m1, m2)"
   ]
  },
  {
   "cell_type": "code",
   "execution_count": 24,
   "id": "04d243f1-dc64-4ab4-b523-f3bd3699710a",
   "metadata": {},
   "outputs": [
    {
     "data": {
      "text/plain": [
       "torch.Size([5, 10])"
      ]
     },
     "execution_count": 24,
     "metadata": {},
     "output_type": "execute_result"
    }
   ],
   "source": [
    "t1.shape # 5 row, 10 col output"
   ]
  },
  {
   "cell_type": "code",
   "execution_count": 25,
   "id": "f369a59e-3be7-46ea-83b2-6ab771fa5767",
   "metadata": {},
   "outputs": [
    {
     "data": {
      "text/plain": [
       "50000"
      ]
     },
     "execution_count": 25,
     "metadata": {},
     "output_type": "execute_result"
    }
   ],
   "source": [
    "len(x_train)"
   ]
  },
  {
   "cell_type": "markdown",
   "id": "9ea6f73f-c633-4b3d-80c4-2f44b43180ff",
   "metadata": {},
   "source": [
    "This is quite slow. To do a single epoch it would take ~20,000 seconds on the computer I'm using to take notes. (50,000 on Jeremy's).\n",
    "\n",
    "This is also why we don't write things in Python. It's **unreasonably slow**. \n",
    "\n",
    "New goal, can we speed this up 50,000 times"
   ]
  },
  {
   "cell_type": "markdown",
   "id": "8ee4c0c9-79c9-4503-8a43-4c5b4836c6bf",
   "metadata": {
    "tags": []
   },
   "source": [
    "### Elementwise operations"
   ]
  },
  {
   "cell_type": "markdown",
   "id": "2abb9181-2870-4a97-aa74-d585251b29e5",
   "metadata": {},
   "source": [
    "To speed things up, start with the innermost loop and make things just a little bit faster\n",
    "\n",
    "> The way to make Python faster is to remove python - Jeremy Howard\n",
    "\n",
    "EWO's include (+,-,*,/,>,<,==)\n",
    "\n",
    "Example with two tensors:"
   ]
  },
  {
   "cell_type": "code",
   "execution_count": 26,
   "id": "114bce02-6364-44d6-b6d2-efb2d1dd733a",
   "metadata": {},
   "outputs": [
    {
     "data": {
      "text/plain": [
       "(tensor([10.,  6., -4.]), tensor([2., 8., 7.]))"
      ]
     },
     "execution_count": 26,
     "metadata": {},
     "output_type": "execute_result"
    }
   ],
   "source": [
    "a = tensor([10., 6, -4])\n",
    "b = tensor([2., 8, 7])\n",
    "a,b"
   ]
  },
  {
   "cell_type": "code",
   "execution_count": 27,
   "id": "e82e5c84-a511-40bc-a709-05f966e7ff80",
   "metadata": {},
   "outputs": [
    {
     "data": {
      "text/plain": [
       "tensor([12., 14.,  3.])"
      ]
     },
     "execution_count": 27,
     "metadata": {},
     "output_type": "execute_result"
    }
   ],
   "source": [
    "a+b"
   ]
  },
  {
   "cell_type": "markdown",
   "id": "000de174-a1e4-4c50-bcee-e6b17929c719",
   "metadata": {},
   "source": [
    "We performed `c[0] = a[0]+b[0]`, `c[1] = a[1] + b[1]`, ..."
   ]
  },
  {
   "cell_type": "markdown",
   "id": "c485f39a-9866-4da9-baaf-d9892df790cf",
   "metadata": {},
   "source": [
    "#### Code"
   ]
  },
  {
   "cell_type": "code",
   "execution_count": 28,
   "id": "f4ee464a-4844-4c59-be6c-f1b2346442a8",
   "metadata": {},
   "outputs": [],
   "source": [
    "c = (a < b)\n",
    "c = c.float().mean()"
   ]
  },
  {
   "cell_type": "markdown",
   "id": "0ae48e9b-8a28-47ab-ba5c-e3feeb9bf030",
   "metadata": {},
   "source": [
    "#### Explanation"
   ]
  },
  {
   "cell_type": "code",
   "execution_count": 29,
   "id": "8e13fbcb-6230-40b2-b679-1dca0067b70d",
   "metadata": {},
   "outputs": [],
   "source": [
    "{\n",
    "    \"c = (a < b)\": \"We performed `c[0] = a[0]< b[0]`, `c[1] = a[1] < b[1]`, ...\",\n",
    "    \"c\":\"This becomes a boolean array of `[False, True, True]`, having an average of 2/3's\"\n",
    "};"
   ]
  },
  {
   "cell_type": "code",
   "execution_count": 30,
   "id": "353be2bf-5a87-4b20-99b0-22d63083eb7b",
   "metadata": {},
   "outputs": [
    {
     "data": {
      "text/plain": [
       "tensor(0.6667)"
      ]
     },
     "execution_count": 30,
     "metadata": {},
     "output_type": "execute_result"
    }
   ],
   "source": [
    "c"
   ]
  },
  {
   "cell_type": "markdown",
   "id": "954a4422-93fa-4a3b-9bd3-96f0b737b2d4",
   "metadata": {},
   "source": [
    "Also known as what percentage of a is less than b. We could also perform the same on a rank 2 tensor (a tensor that has 2 dimensions), aka a matrix!"
   ]
  },
  {
   "cell_type": "code",
   "execution_count": 31,
   "id": "59881a1f-a01f-4dfe-bbc1-10484844fcb6",
   "metadata": {},
   "outputs": [
    {
     "data": {
      "text/plain": [
       "tensor([[1., 2., 3.],\n",
       "        [4., 5., 6.],\n",
       "        [7., 8., 9.]])"
      ]
     },
     "execution_count": 31,
     "metadata": {},
     "output_type": "execute_result"
    }
   ],
   "source": [
    "m = tensor([[1., 2, 3], [4,5,6], [7,8,9]]); m"
   ]
  },
  {
   "cell_type": "markdown",
   "id": "5c34fa7a-155f-4bfc-b701-30ad9701117d",
   "metadata": {},
   "source": [
    "> Note: We only convert the first number to a float as PyTorch will realize this and cast the rest as a float"
   ]
  },
  {
   "cell_type": "markdown",
   "id": "1a593162-9aae-41a4-818a-c164db1df947",
   "metadata": {},
   "source": [
    "Frobenius norm:\n",
    "\n",
    "*I have no idea what this is/remember what this is*\n",
    "\n",
    "$$\\|A\\|_F=\\left(\\sum_{i, j=1}^n\\left|a_{i j}\\right|^2\\right)^{1 / 2}$$\n",
    "\n"
   ]
  },
  {
   "cell_type": "markdown",
   "id": "e5bbbb52-2f23-494a-b08e-158ace0e39cb",
   "metadata": {},
   "source": [
    "#### Code"
   ]
  },
  {
   "cell_type": "code",
   "execution_count": 32,
   "id": "f58bb16f-f487-46ab-a787-f2dd3acc00b8",
   "metadata": {},
   "outputs": [
    {
     "data": {
      "text/plain": [
       "tensor(16.8819)"
      ]
     },
     "execution_count": 32,
     "metadata": {},
     "output_type": "execute_result"
    }
   ],
   "source": [
    "n = torch.clone(m) # For readability\n",
    "(m*n).sum().sqrt()"
   ]
  },
  {
   "cell_type": "markdown",
   "id": "5cc9bd72-e69b-431b-895e-8f89f4b374d5",
   "metadata": {},
   "source": [
    "#### Explanation"
   ]
  },
  {
   "cell_type": "code",
   "execution_count": 112,
   "id": "6cc35f29-9316-49c8-a96a-c7ed49939d6a",
   "metadata": {},
   "outputs": [],
   "source": [
    "{\n",
    "    \"i\": \"$$\\\\text{This is the first for loop, and goes from 1 }\\\\rightarrow\\\\text{ n}$$\",\n",
    "    \"j\": \"$$\\\\text{This is the second for loop, and goes from 1 }\\\\rightarrow\\\\text{ n as well}$$\",\n",
    "    \"m*n\":\"$$\\\\text{This correlates to }\\left|a_{i j}\\\\right|$$\",\n",
    "    \".sum()\": \"$$\\\\text{This aligns with }\\sum_{i, j=1}^n\\\\text{, which is equivalent to a product combination of }\\sum_{i \\mathop =1}^m and \\sum_{j \\mathop =1}^n$$\",\n",
    "    \".sqrt()\": \"$$\\\\text{This correlates to the 1/2 power, simplified as 'result' }\\left(\\\\text{result}\\\\right)^{1 / 2}$$\"\n",
    "};"
   ]
  },
  {
   "cell_type": "code",
   "execution_count": 34,
   "id": "7ac98ede-480c-4b6c-9500-f28068a0065c",
   "metadata": {},
   "outputs": [
    {
     "data": {
      "text/plain": [
       "tensor(16.8819)"
      ]
     },
     "execution_count": 34,
     "metadata": {},
     "output_type": "execute_result"
    }
   ],
   "source": [
    "#hide_input\n",
    "# Editors note: If you have \\r in the latex, use \\\\r\n",
    "(m*n).sum().sqrt()"
   ]
  },
  {
   "cell_type": "markdown",
   "id": "92349d8e-65ed-4ff4-bb82-763bf137304d",
   "metadata": {},
   "source": [
    "### Elementwise Matrix Multiplication (rendition 2!)"
   ]
  },
  {
   "cell_type": "markdown",
   "id": "1d8ce717-c9f1-4c19-925f-29310179f2f8",
   "metadata": {},
   "source": [
    "#### Code"
   ]
  },
  {
   "cell_type": "code",
   "execution_count": 35,
   "id": "44da7c54-a998-4d09-b5b9-b335782aa72b",
   "metadata": {},
   "outputs": [],
   "source": [
    "def matmul(a,b):\n",
    "    ar,ac = a.shape\n",
    "    br,bc = b.shape\n",
    "    assert ac==br\n",
    "    c = torch.zeros(ar,bc)\n",
    "    for i in range(ar):\n",
    "        for j in range(bc):\n",
    "            # Any trailing \",:\" can be removed\n",
    "            c[i,j] = (a[i,:] * b[:,j]).sum()\n",
    "    return c"
   ]
  },
  {
   "cell_type": "markdown",
   "id": "004eef32-9227-4801-a5d0-3520f04f308e",
   "metadata": {},
   "source": [
    "#### Explanation"
   ]
  },
  {
   "cell_type": "code",
   "execution_count": 36,
   "id": "646112da-f452-4e0b-923e-4dbfd6c27f0b",
   "metadata": {},
   "outputs": [],
   "source": [
    "{\n",
    "    \"c[i,j] = (a[i,:] * b[:,j]).sum()\": \"$$\\\\text{We replace the entire innermost for loop with this, and directly perform the matrix operation.}\\\\newline\\\\text{Remember that : selects everything from i}\\\\rightarrow\\\\text{end! (Or the entirety of that axis)}$$\",\n",
    "    \"a[i,:]\": \"We select all of row `i`\",\n",
    "    \"b[:,j]\": \"And we select all of column `j`.\"\n",
    "};"
   ]
  },
  {
   "cell_type": "markdown",
   "id": "b0797ae6-27c2-49d8-a520-11bf2f17abe0",
   "metadata": {},
   "source": [
    "In numpy and PyTorch it goes 🎵 row by column 🎵"
   ]
  },
  {
   "cell_type": "code",
   "execution_count": 37,
   "id": "38657906-b292-4077-8935-473bf74a522f",
   "metadata": {},
   "outputs": [
    {
     "name": "stdout",
     "output_type": "stream",
     "text": [
      "570 µs ± 21.5 µs per loop (mean ± std. dev. of 7 runs, 10 loops each)\n"
     ]
    }
   ],
   "source": [
    "%timeit -n 10 _=matmul(m1,m2)"
   ]
  },
  {
   "cell_type": "code",
   "execution_count": 38,
   "id": "12df0a9d-4207-4b3d-af22-fa45e1baa917",
   "metadata": {},
   "outputs": [
    {
     "data": {
      "text/plain": [
       "612.1045392022008"
      ]
     },
     "execution_count": 38,
     "metadata": {},
     "output_type": "execute_result"
    }
   ],
   "source": [
    "445/.727"
   ]
  },
  {
   "cell_type": "markdown",
   "id": "54c051cf-c126-4ac7-a7cb-5b33f3e9e211",
   "metadata": {},
   "source": [
    "We are now 600x faster by removing a single loop by running it in c"
   ]
  },
  {
   "cell_type": "code",
   "execution_count": 42,
   "id": "5790943e-c727-4a85-a4e5-a3cc951b368b",
   "metadata": {},
   "outputs": [],
   "source": [
    "test_close(t1, matmul(m1,m2), eps=1e-4)"
   ]
  },
  {
   "cell_type": "markdown",
   "id": "0981b16d-e1c2-45a1-ae16-e0c8ded3f35e",
   "metadata": {},
   "source": [
    "### Broadcasting"
   ]
  },
  {
   "cell_type": "markdown",
   "id": "2d9377c8-12de-467f-82d3-5064b8cb4fab",
   "metadata": {},
   "source": [
    "Now we need to get rid of the second-most inner loop through *broadcasting*.\n",
    "\n",
    "Get rid of all for loops and replace with implicit broadcasted loops"
   ]
  },
  {
   "cell_type": "markdown",
   "id": "faf5a42d-86f0-419d-8080-3229cd1c5eb0",
   "metadata": {},
   "source": [
    "#### Broadcasting with a scalar"
   ]
  },
  {
   "cell_type": "code",
   "execution_count": 43,
   "id": "25bc8eed-c70b-492e-931b-04d3d49d3631",
   "metadata": {},
   "outputs": [
    {
     "data": {
      "text/plain": [
       "tensor([10.,  6., -4.])"
      ]
     },
     "execution_count": 43,
     "metadata": {},
     "output_type": "execute_result"
    }
   ],
   "source": [
    "a"
   ]
  },
  {
   "cell_type": "code",
   "execution_count": 44,
   "id": "62491df5-5081-4a9e-ac23-a28dbed327e0",
   "metadata": {},
   "outputs": [
    {
     "data": {
      "text/plain": [
       "tensor([ True,  True, False])"
      ]
     },
     "execution_count": 44,
     "metadata": {},
     "output_type": "execute_result"
    }
   ],
   "source": [
    "a > 0"
   ]
  },
  {
   "cell_type": "markdown",
   "id": "2ca3bb22-a7f6-4a67-80e3-922ca9a721b4",
   "metadata": {},
   "source": [
    "We just *broadcast* `a > 0`. Also known as, the float turns into `[0,0,0]` and an element-wise operation is performed, and is done at either C or CUDA speed depending on the device"
   ]
  },
  {
   "cell_type": "markdown",
   "id": "9df18677-423e-47c1-afaa-8ce48270e5df",
   "metadata": {},
   "source": [
    "#### Broadcast a vector to a matrix"
   ]
  },
  {
   "cell_type": "code",
   "execution_count": 45,
   "id": "9610b6f7-8990-4b63-a426-27735ed4d362",
   "metadata": {},
   "outputs": [
    {
     "data": {
      "text/plain": [
       "tensor([10., 20., 30.])"
      ]
     },
     "execution_count": 45,
     "metadata": {},
     "output_type": "execute_result"
    }
   ],
   "source": [
    "d = tensor([10.,20,30]); d"
   ]
  },
  {
   "cell_type": "code",
   "execution_count": 46,
   "id": "8d995188-964e-49d1-b0d2-6b4de2cb53f3",
   "metadata": {},
   "outputs": [
    {
     "data": {
      "text/plain": [
       "tensor([[1., 2., 3.],\n",
       "        [4., 5., 6.],\n",
       "        [7., 8., 9.]])"
      ]
     },
     "execution_count": 46,
     "metadata": {},
     "output_type": "execute_result"
    }
   ],
   "source": [
    "m"
   ]
  },
  {
   "cell_type": "code",
   "execution_count": 47,
   "id": "54a2639f-48c7-4281-8973-72b85ae9f154",
   "metadata": {},
   "outputs": [
    {
     "data": {
      "text/plain": [
       "(torch.Size([3, 3]), torch.Size([]))"
      ]
     },
     "execution_count": 47,
     "metadata": {},
     "output_type": "execute_result"
    }
   ],
   "source": [
    "m.shape,c.shape"
   ]
  },
  {
   "cell_type": "code",
   "execution_count": 48,
   "id": "8a75a33b-6414-458c-84da-d4cf3906f6c1",
   "metadata": {},
   "outputs": [
    {
     "data": {
      "text/plain": [
       "tensor([[11., 22., 33.],\n",
       "        [14., 25., 36.],\n",
       "        [17., 28., 39.]])"
      ]
     },
     "execution_count": 48,
     "metadata": {},
     "output_type": "execute_result"
    }
   ],
   "source": [
    "m + d"
   ]
  },
  {
   "cell_type": "markdown",
   "id": "175141c8-51fb-4814-b481-f9d70f04550c",
   "metadata": {},
   "source": [
    "By the rules we have so far, we'd expect this to not actually do anything. But instead it broadcast the tensor *horizontally* row by row adding the vector to the matrix"
   ]
  },
  {
   "cell_type": "markdown",
   "id": "9766b4d9-7cc9-47a9-a617-cce827ffd21a",
   "metadata": {},
   "source": [
    "#### Code"
   ]
  },
  {
   "cell_type": "code",
   "execution_count": 49,
   "id": "f2b8a7b4-cd1e-47a2-b52a-6657a4f2971e",
   "metadata": {},
   "outputs": [],
   "source": [
    "t = d.expand_as(m)"
   ]
  },
  {
   "cell_type": "markdown",
   "id": "089015ec-d591-4103-a409-92ebac6eb53d",
   "metadata": {},
   "source": [
    "#### Explanation"
   ]
  },
  {
   "cell_type": "code",
   "execution_count": 50,
   "id": "5f38b022-80b1-4def-be90-ef990cfb0849",
   "metadata": {},
   "outputs": [],
   "source": [
    "{\n",
    "    \".expand_as\":\"Shows what a tensor (d) would look like if it were broadcast to m\"\n",
    "};"
   ]
  },
  {
   "cell_type": "code",
   "execution_count": 51,
   "id": "1973ee7a-178c-4945-858d-f84b54c5e306",
   "metadata": {},
   "outputs": [
    {
     "data": {
      "text/plain": [
       "tensor([[10., 20., 30.],\n",
       "        [10., 20., 30.],\n",
       "        [10., 20., 30.]])"
      ]
     },
     "execution_count": 51,
     "metadata": {},
     "output_type": "execute_result"
    }
   ],
   "source": [
    "t"
   ]
  },
  {
   "cell_type": "code",
   "execution_count": 52,
   "id": "ea66ad09-a55d-44ec-a7ed-8b0f280fcee2",
   "metadata": {},
   "outputs": [
    {
     "data": {
      "text/plain": [
       " 10.0\n",
       " 20.0\n",
       " 30.0\n",
       "[torch.storage._TypedStorage(dtype=torch.float32, device=cpu) of size 3]"
      ]
     },
     "execution_count": 52,
     "metadata": {},
     "output_type": "execute_result"
    }
   ],
   "source": [
    "t.storage()"
   ]
  },
  {
   "cell_type": "markdown",
   "id": "dcbdeda1-29d0-4609-9149-07dfbcb7eeb2",
   "metadata": {},
   "source": [
    "This shows us that it's only storing one copy of `t`, and not a 3x3 copy of `t`"
   ]
  },
  {
   "cell_type": "code",
   "execution_count": 53,
   "id": "6d65ee78-257e-46c9-9ea4-f135f30f1933",
   "metadata": {},
   "outputs": [
    {
     "data": {
      "text/plain": [
       "((0, 1), torch.Size([3, 3]))"
      ]
     },
     "execution_count": 53,
     "metadata": {},
     "output_type": "execute_result"
    }
   ],
   "source": [
    "t.stride(), t.shape"
   ]
  },
  {
   "cell_type": "markdown",
   "id": "5dfc8d6c-a262-4ba0-8113-a6b32baad184",
   "metadata": {},
   "source": [
    "How to read this:\n",
    "\n",
    "When going row by row, it should take *zero* steps through the memory/storage. And when going column by column, it should take **one** step.\n",
    "\n",
    "This in turn is how it repeats 10,20,30 for every single row. \n",
    "\n",
    "We can create tensors that behave like tensors much bigger than what they are.\n",
    "\n",
    "What if we wanted to take a column instead of a row? In other words, a rank 2 tensor of shape (3,1)"
   ]
  },
  {
   "cell_type": "markdown",
   "id": "eccc92b9-471d-42f7-8627-33edcb4f4e2a",
   "metadata": {},
   "source": [
    "#### Code"
   ]
  },
  {
   "cell_type": "code",
   "execution_count": 54,
   "id": "bc05c743-1d2e-4c23-9159-d4e92f5f9432",
   "metadata": {},
   "outputs": [
    {
     "data": {
      "text/plain": [
       "tensor([[10.],\n",
       "        [20.],\n",
       "        [30.]])"
      ]
     },
     "execution_count": 54,
     "metadata": {},
     "output_type": "execute_result"
    }
   ],
   "source": [
    "d.unsqueeze(1)"
   ]
  },
  {
   "cell_type": "markdown",
   "id": "036615dd-ab6a-40bb-b7fa-a53a6b41c7d9",
   "metadata": {},
   "source": [
    "#### Explanation"
   ]
  },
  {
   "cell_type": "code",
   "execution_count": 55,
   "id": "ad274763-aac9-4e58-bfef-b3c6a9a77ea8",
   "metadata": {},
   "outputs": [],
   "source": [
    "{\n",
    "    \".unsqueeze(1)\":\"Adds an additional dimension of 1 to wherever we ask for one\"\n",
    "};"
   ]
  },
  {
   "cell_type": "code",
   "execution_count": 56,
   "id": "2fb387e9-6bef-44a5-b78f-bb29f0477503",
   "metadata": {},
   "outputs": [
    {
     "data": {
      "text/plain": [
       "torch.Size([3])"
      ]
     },
     "execution_count": 56,
     "metadata": {},
     "output_type": "execute_result"
    }
   ],
   "source": [
    "d.shape"
   ]
  },
  {
   "cell_type": "code",
   "execution_count": 57,
   "id": "826c1e5a-6edf-4e38-a779-959a6b029dc7",
   "metadata": {},
   "outputs": [
    {
     "data": {
      "text/plain": [
       "tensor([[10., 20., 30.]])"
      ]
     },
     "execution_count": 57,
     "metadata": {},
     "output_type": "execute_result"
    }
   ],
   "source": [
    "d.unsqueeze(0)"
   ]
  },
  {
   "cell_type": "markdown",
   "id": "3b45d299-8f02-43ca-bfe0-b9749503ec00",
   "metadata": {},
   "source": [
    "`d` would have a shape of `(1,3)` which changed from just `(3)` by adding a dimension at position `0`."
   ]
  },
  {
   "cell_type": "code",
   "execution_count": 58,
   "id": "762f6020-6e9c-4058-aa94-1f851f9f30cf",
   "metadata": {},
   "outputs": [
    {
     "data": {
      "text/plain": [
       "tensor([[10.],\n",
       "        [20.],\n",
       "        [30.]])"
      ]
     },
     "execution_count": 58,
     "metadata": {},
     "output_type": "execute_result"
    }
   ],
   "source": [
    "d.unsqueeze(1)"
   ]
  },
  {
   "cell_type": "markdown",
   "id": "0d0d6d76-b673-48ce-9dbd-5368953d9c1e",
   "metadata": {},
   "source": [
    "`d` would have a shape of `(3,1)` which changed from just `(3)` by adding a dimension at position `1`."
   ]
  },
  {
   "cell_type": "code",
   "execution_count": 59,
   "id": "fb31b9a2-5407-4b75-b445-8022c041f8f0",
   "metadata": {},
   "outputs": [
    {
     "ename": "IndexError",
     "evalue": "Dimension out of range (expected to be in range of [-2, 1], but got 2)",
     "output_type": "error",
     "traceback": [
      "\u001b[0;31m---------------------------------------------------------------------------\u001b[0m",
      "\u001b[0;31mIndexError\u001b[0m                                Traceback (most recent call last)",
      "\u001b[0;32m/tmp/ipykernel_225576/68533425.py\u001b[0m in \u001b[0;36m<module>\u001b[0;34m\u001b[0m\n\u001b[0;32m----> 1\u001b[0;31m \u001b[0md\u001b[0m\u001b[0;34m.\u001b[0m\u001b[0munsqueeze\u001b[0m\u001b[0;34m(\u001b[0m\u001b[0;36m2\u001b[0m\u001b[0;34m)\u001b[0m\u001b[0;34m\u001b[0m\u001b[0;34m\u001b[0m\u001b[0m\n\u001b[0m",
      "\u001b[0;31mIndexError\u001b[0m: Dimension out of range (expected to be in range of [-2, 1], but got 2)"
     ]
    }
   ],
   "source": [
    "#d.unsqueeze(2)"
   ]
  },
  {
   "cell_type": "markdown",
   "id": "ff5680c7-ef98-445e-9a41-69777692cc4a",
   "metadata": {},
   "source": [
    "This fails because we only have a 1d tensor not a 2d tensor. E.g.:"
   ]
  },
  {
   "cell_type": "code",
   "execution_count": 60,
   "id": "6bb1b0d0-c1be-4357-a0f1-375b78acffe8",
   "metadata": {},
   "outputs": [
    {
     "data": {
      "text/plain": [
       "tensor([[[1],\n",
       "         [2],\n",
       "         [3]],\n",
       "\n",
       "        [[4],\n",
       "         [5],\n",
       "         [6]]])"
      ]
     },
     "execution_count": 60,
     "metadata": {},
     "output_type": "execute_result"
    }
   ],
   "source": [
    "torch.tensor([[1,2,3],[4,5,6]]).unsqueeze(2)"
   ]
  },
  {
   "cell_type": "code",
   "execution_count": 61,
   "id": "51ea0429-bd4b-4785-895f-91cc84853fe3",
   "metadata": {},
   "outputs": [
    {
     "data": {
      "text/plain": [
       "(torch.Size([3]), torch.Size([1, 3]), torch.Size([3, 1]))"
      ]
     },
     "execution_count": 61,
     "metadata": {},
     "output_type": "execute_result"
    }
   ],
   "source": [
    "d.shape, d.unsqueeze(0).shape, d.unsqueeze(1).shape"
   ]
  },
  {
   "cell_type": "markdown",
   "id": "933846f6-0773-44c8-8616-792ede3a32c0",
   "metadata": {},
   "source": [
    "#### Code"
   ]
  },
  {
   "cell_type": "code",
   "execution_count": 62,
   "id": "5334137c-2658-4438-803a-f3b49460eedf",
   "metadata": {},
   "outputs": [
    {
     "data": {
      "text/plain": [
       "(torch.Size([3]), torch.Size([1, 3]), torch.Size([3, 1]))"
      ]
     },
     "execution_count": 62,
     "metadata": {},
     "output_type": "execute_result"
    }
   ],
   "source": [
    "d.shape, d[None,:].shape, d[:,None].shape"
   ]
  },
  {
   "cell_type": "markdown",
   "id": "2451d116-c63b-4cb3-a019-b56e7c60058f",
   "metadata": {},
   "source": [
    "#### Explanation"
   ]
  },
  {
   "cell_type": "code",
   "execution_count": 63,
   "id": "091ba4c8-64de-4119-b475-1c07d81b48b8",
   "metadata": {},
   "outputs": [],
   "source": [
    "{\n",
    "    \"d[None,:], d[:,None]\": \"PyTorch and numpy will use this notation to squeeze in a dimension at index `None`, equivalent to unsqueeze()\",\n",
    "    \"d[None,:]\": \"This is equivalent to `d.unsqueeze(0)`\",\n",
    "    \"d[:,None]\": \"This is equivalent to `d.unsqueeze(1)`\"\n",
    "};"
   ]
  },
  {
   "cell_type": "code",
   "execution_count": 64,
   "id": "25cae94c-1aaa-4885-90fb-2ab2b970a44c",
   "metadata": {},
   "outputs": [
    {
     "data": {
      "text/plain": [
       "(torch.Size([3]), torch.Size([1, 3]), torch.Size([3, 1]))"
      ]
     },
     "execution_count": 64,
     "metadata": {},
     "output_type": "execute_result"
    }
   ],
   "source": [
    "#hide_input\n",
    "d.shape, d[None,:].shape, d[:,None].shape"
   ]
  },
  {
   "cell_type": "markdown",
   "id": "62286354-f09c-4d64-9a91-d1f753ce0ea8",
   "metadata": {},
   "source": [
    "This also works with *multiple* axes:"
   ]
  },
  {
   "cell_type": "code",
   "execution_count": 65,
   "id": "cd68b355-03c3-4822-a098-d4c16d365ee6",
   "metadata": {},
   "outputs": [
    {
     "data": {
      "text/plain": [
       "torch.Size([1, 1, 3])"
      ]
     },
     "execution_count": 65,
     "metadata": {},
     "output_type": "execute_result"
    }
   ],
   "source": [
    "d[None,None,:].shape"
   ]
  },
  {
   "cell_type": "markdown",
   "id": "c68910cb-a50e-4c5d-b6f6-70ae027c3b18",
   "metadata": {},
   "source": [
    "You can always skip trailing :'s, and '...' means 'all preceding dimensions':"
   ]
  },
  {
   "cell_type": "code",
   "execution_count": 66,
   "id": "80b8b58c-6ef4-497a-93fb-766446eb6a2d",
   "metadata": {},
   "outputs": [
    {
     "data": {
      "text/plain": [
       "(torch.Size([1, 3]), torch.Size([3, 1]))"
      ]
     },
     "execution_count": 66,
     "metadata": {},
     "output_type": "execute_result"
    }
   ],
   "source": [
    "d[None].shape, d[...,None].shape"
   ]
  },
  {
   "cell_type": "markdown",
   "id": "20b70391-57ec-436a-bcde-840b4f5e8024",
   "metadata": {},
   "source": [
    "#### Code"
   ]
  },
  {
   "cell_type": "code",
   "execution_count": 67,
   "id": "4962eb79-6abd-4fbf-aaa3-58cab3a3b105",
   "metadata": {},
   "outputs": [
    {
     "data": {
      "text/plain": [
       "tensor([[10., 10., 10.],\n",
       "        [20., 20., 20.],\n",
       "        [30., 30., 30.]])"
      ]
     },
     "execution_count": 67,
     "metadata": {},
     "output_type": "execute_result"
    }
   ],
   "source": [
    "d[:,None].expand_as(m)"
   ]
  },
  {
   "cell_type": "markdown",
   "id": "da2b9055-ba40-4f6c-ae12-3826c7b77eef",
   "metadata": {},
   "source": [
    "#### Explanation"
   ]
  },
  {
   "cell_type": "code",
   "execution_count": 68,
   "id": "746f8d34-c031-4988-8943-4e7787b442a0",
   "metadata": {},
   "outputs": [],
   "source": [
    "{\n",
    "    \"d[:,None]\": \"Adds a dimension on the last axis, turning `d` into [10],[20],[30]\",\n",
    "    \".expand_as(m)\": \"When we expand now, the result will be a lateral expansion rather than vertical\"\n",
    "};"
   ]
  },
  {
   "cell_type": "code",
   "execution_count": 69,
   "id": "e31b3d75-26bf-4b97-be99-225359585c84",
   "metadata": {},
   "outputs": [
    {
     "data": {
      "text/plain": [
       "tensor([[10., 10., 10.],\n",
       "        [20., 20., 20.],\n",
       "        [30., 30., 30.]])"
      ]
     },
     "execution_count": 69,
     "metadata": {},
     "output_type": "execute_result"
    }
   ],
   "source": [
    "d[:,None].expand_as(m)"
   ]
  },
  {
   "cell_type": "code",
   "execution_count": 70,
   "id": "df0f7d4c-a921-4ccd-b1d2-bce29df54571",
   "metadata": {},
   "outputs": [
    {
     "data": {
      "text/plain": [
       "tensor([[11., 12., 13.],\n",
       "        [24., 25., 26.],\n",
       "        [37., 38., 39.]])"
      ]
     },
     "execution_count": 70,
     "metadata": {},
     "output_type": "execute_result"
    }
   ],
   "source": [
    "m + d[:,None]"
   ]
  },
  {
   "cell_type": "markdown",
   "id": "234fb35f-1ed3-4c7a-be4a-a07d2540ab42",
   "metadata": {},
   "source": [
    "From here, we visualize this in excel. Follow the timestamp [here](https://youtu.be/4u8FxNEDUeg?list=PLfYUBJiXbdtTIdtE1U8qgyxo4Jy2Y91uj&t=3626)"
   ]
  },
  {
   "cell_type": "markdown",
   "id": "3bf46f8f-46a8-4cb6-9645-770d2e35c29b",
   "metadata": {},
   "source": [
    "### matmul with broadcasting\n",
    "\n",
    "With this information now, we can use this to get rid of the loop:"
   ]
  },
  {
   "cell_type": "markdown",
   "id": "3711aee1-2439-4117-955d-087c81564506",
   "metadata": {},
   "source": [
    "#### Code"
   ]
  },
  {
   "cell_type": "code",
   "execution_count": 75,
   "id": "ff19a1fa-83e3-46cf-838a-0606739cd0c2",
   "metadata": {},
   "outputs": [],
   "source": [
    "def matmul(a,b):\n",
    "    ar,ac = a.shape\n",
    "    br,bc = b.shape\n",
    "    assert ac==br\n",
    "    c = torch.zeros(ar,bc)\n",
    "    for i in range(ar):\n",
    "        # c[i,j] = (a[i,:] * b[:,j]).sum() previous\n",
    "        c[i] = (a[i].unsqueeze(-1) * b).sum(dim=0)\n",
    "        # This is equivalent to c[i,:]\n",
    "        # Rewritten in None form:\n",
    "        #c[i] = (a[i][:,None] * b).sum(dim=0)\n",
    "        # Rewritten again to avoid second index altogether:\n",
    "        #c[i] = (a[i,:,None] * b).sum(dim=0)\n",
    "    return c"
   ]
  },
  {
   "cell_type": "markdown",
   "id": "0404df8b-f364-4711-b6cd-961ccb7a7609",
   "metadata": {},
   "source": [
    "#### Explanation"
   ]
  },
  {
   "cell_type": "code",
   "execution_count": 76,
   "id": "af243fd1-4454-48ef-b2b6-786507da221e",
   "metadata": {},
   "outputs": [],
   "source": [
    "{\n",
    "    \"a[i].unsqueeze(-1)\": \"This takes `a` at `i` and expands its last dimension by 1, and now it's a rank 2 tensor\",\n",
    "    \"* b\": \"This newly reshaped array can then be multiplied by b properly without issue\",\n",
    "    \".sum(dim=0)\": \"And finally we can take the sum of that result, doing so on the first dimension\"\n",
    "};"
   ]
  },
  {
   "cell_type": "code",
   "execution_count": 77,
   "id": "e0424b9f-653e-40d1-811f-cdf32319e7f9",
   "metadata": {},
   "outputs": [
    {
     "data": {
      "text/plain": [
       "tensor([[-0., 0., 0.,  ..., 0., -0., 0.],\n",
       "        [-0., 0., 0.,  ..., -0., -0., -0.],\n",
       "        [0., 0., -0.,  ..., -0., 0., 0.],\n",
       "        ...,\n",
       "        [-0., 0., -0.,  ..., -0., 0., -0.],\n",
       "        [-0., 0., -0.,  ..., 0., -0., -0.],\n",
       "        [0., 0., 0.,  ..., 0., -0., -0.]])"
      ]
     },
     "execution_count": 77,
     "metadata": {},
     "output_type": "execute_result"
    }
   ],
   "source": [
    "m2*m1[0].unsqueeze(-1)"
   ]
  },
  {
   "cell_type": "code",
   "execution_count": 78,
   "id": "46c451e6-c39c-4efa-b6ba-3bc08f016f08",
   "metadata": {},
   "outputs": [
    {
     "data": {
      "text/plain": [
       "tensor([[-0., 0., 0.,  ..., 0., -0., 0.],\n",
       "        [-0., 0., 0.,  ..., -0., -0., -0.],\n",
       "        [0., 0., -0.,  ..., -0., 0., 0.],\n",
       "        ...,\n",
       "        [-0., 0., -0.,  ..., -0., 0., -0.],\n",
       "        [-0., 0., -0.,  ..., 0., -0., -0.],\n",
       "        [0., 0., 0.,  ..., 0., -0., -0.]])"
      ]
     },
     "execution_count": 78,
     "metadata": {},
     "output_type": "execute_result"
    }
   ],
   "source": [
    "m1[0,:,None] * m2"
   ]
  },
  {
   "cell_type": "code",
   "execution_count": 79,
   "id": "eb6acd32-ff02-4771-a589-837a1eed4599",
   "metadata": {},
   "outputs": [
    {
     "data": {
      "text/plain": [
       "torch.Size([784, 1])"
      ]
     },
     "execution_count": 79,
     "metadata": {},
     "output_type": "execute_result"
    }
   ],
   "source": [
    "m1[0].unsqueeze(-1).shape"
   ]
  },
  {
   "cell_type": "code",
   "execution_count": 80,
   "id": "98f98450-ea7b-43f3-bb24-75ebb4ebdaa4",
   "metadata": {},
   "outputs": [],
   "source": [
    "assert m1[0].unsqueeze(-1).shape == m1[0][:,None].shape == m1[0,:,None].shape == m1[0,None].T.shape"
   ]
  },
  {
   "cell_type": "code",
   "execution_count": 81,
   "id": "3b7d8ce1-4ae1-4481-9239-eea89e928097",
   "metadata": {},
   "outputs": [
    {
     "name": "stdout",
     "output_type": "stream",
     "text": [
      "202 µs ± 66.7 µs per loop (mean ± std. dev. of 7 runs, 10 loops each)\n"
     ]
    }
   ],
   "source": [
    "%timeit -n 10 _=matmul(m1,m2)"
   ]
  },
  {
   "cell_type": "code",
   "execution_count": 82,
   "id": "4b16953b-2516-4033-a6c7-4ed2baf3a3ea",
   "metadata": {},
   "outputs": [
    {
     "data": {
      "text/plain": [
       "2834.394904458599"
      ]
     },
     "execution_count": 82,
     "metadata": {},
     "output_type": "execute_result"
    }
   ],
   "source": [
    "445/.157"
   ]
  },
  {
   "cell_type": "markdown",
   "id": "dd3b41e1-e585-4628-a2a3-d74251667bd6",
   "metadata": {},
   "source": [
    "We are now more than 2000x faster!"
   ]
  },
  {
   "cell_type": "code",
   "execution_count": 84,
   "id": "b91c0e91-96a9-442f-b793-dc7994d2871f",
   "metadata": {},
   "outputs": [],
   "source": [
    "test_close(t1, matmul(m1,m2), eps=1e-4)"
   ]
  },
  {
   "cell_type": "markdown",
   "id": "f88f9d0d-c205-4971-832c-26e7608f993d",
   "metadata": {},
   "source": [
    "### Broadcasting Rules"
   ]
  },
  {
   "cell_type": "code",
   "execution_count": 87,
   "id": "026abb5e-1832-4636-97ba-a71f4bf9ec55",
   "metadata": {},
   "outputs": [
    {
     "data": {
      "text/plain": [
       "tensor([10., 20., 30.])"
      ]
     },
     "execution_count": 87,
     "metadata": {},
     "output_type": "execute_result"
    }
   ],
   "source": [
    "d"
   ]
  },
  {
   "cell_type": "code",
   "execution_count": 88,
   "id": "ef5196fd-9f8f-4049-bb9c-6b4684adfa56",
   "metadata": {},
   "outputs": [
    {
     "data": {
      "text/plain": [
       "(tensor([[10., 20., 30.]]), torch.Size([1, 3]))"
      ]
     },
     "execution_count": 88,
     "metadata": {},
     "output_type": "execute_result"
    }
   ],
   "source": [
    "# Pad a dimension\n",
    "d[None,:], d[None,:].shape"
   ]
  },
  {
   "cell_type": "code",
   "execution_count": 89,
   "id": "dce3efeb-e8d8-4579-b95d-e93ceeab23ee",
   "metadata": {},
   "outputs": [
    {
     "data": {
      "text/plain": [
       "torch.Size([3, 1])"
      ]
     },
     "execution_count": 89,
     "metadata": {},
     "output_type": "execute_result"
    }
   ],
   "source": [
    "# Pad the last dimension\n",
    "d[:,None].shape"
   ]
  },
  {
   "cell_type": "code",
   "execution_count": 90,
   "id": "e8086084-d925-4b90-999e-8d5567a89b11",
   "metadata": {},
   "outputs": [
    {
     "data": {
      "text/plain": [
       "tensor([[100., 200., 300.],\n",
       "        [200., 400., 600.],\n",
       "        [300., 600., 900.]])"
      ]
     },
     "execution_count": 90,
     "metadata": {},
     "output_type": "execute_result"
    }
   ],
   "source": [
    "# Perform matmul\n",
    "d[None,:] * d[:,None]"
   ]
  },
  {
   "cell_type": "code",
   "execution_count": 93,
   "id": "0f1607a6-2a58-4791-aff9-de81e911372f",
   "metadata": {},
   "outputs": [
    {
     "data": {
      "text/plain": [
       "tensor([[False,  True,  True],\n",
       "        [False, False,  True],\n",
       "        [False, False, False]])"
      ]
     },
     "execution_count": 93,
     "metadata": {},
     "output_type": "execute_result"
    }
   ],
   "source": [
    "# Peform broadcast\n",
    "d[None] > d[:,None]"
   ]
  },
  {
   "cell_type": "markdown",
   "id": "39cb8238-fcb6-4585-aba1-14d7d2663897",
   "metadata": {},
   "source": [
    "### Einstein Summation"
   ]
  },
  {
   "cell_type": "markdown",
   "id": "f176455d-30a8-4487-ad1e-6fcc57362f79",
   "metadata": {},
   "source": [
    "Recall the inner most part of the for loops earlier:\n",
    "\n",
    "```python\n",
    "c[i,j] += a[i,k] * b[k,j]\n",
    "```\n",
    "\n",
    "And when we removed this, it looked like so:\n",
    "```python\n",
    "c[i,j] = (a[i,:] * b[:,j]).sum()\n",
    "```"
   ]
  },
  {
   "cell_type": "markdown",
   "id": "b2487470-f34d-4f5c-bd32-39d1aa8d69a9",
   "metadata": {},
   "source": [
    "We can rewrite this in Einstein Summation using the following steps:\n",
    "\n",
    "1. Get rid of the names of everything and the operators\n",
    "\n",
    "```python\n",
    "i,j += i,k k,j\n",
    "```\n",
    "\n",
    "2. Move `i,j` to the end and make an arrow point at it:\n",
    "\n",
    "```python\n",
    "i,k k,j -> i,j\n",
    "```\n",
    "\n",
    "3. Get rid of the commas:\n",
    "\n",
    "```python\n",
    "ik kj -> ij\n",
    "```\n",
    "\n",
    "4. Replace spaces with commas:\n",
    "\n",
    "```python\n",
    "ik,kj->ij\n",
    "```"
   ]
  },
  {
   "cell_type": "markdown",
   "id": "2d8b2c35-010a-48ab-98da-37dd66d23d1b",
   "metadata": {},
   "source": [
    "#### Code"
   ]
  },
  {
   "cell_type": "code",
   "execution_count": 1,
   "id": "247d5650-1d60-4d76-858a-ac523b73dd3d",
   "metadata": {},
   "outputs": [],
   "source": [
    "def matmul(a,b): return torch.einsum('ik,kj->ij', a, b)"
   ]
  },
  {
   "cell_type": "markdown",
   "id": "12f1e373-e2e7-4f3c-bef5-29509547a286",
   "metadata": {},
   "source": [
    "#### Explaination"
   ]
  },
  {
   "cell_type": "code",
   "execution_count": 94,
   "id": "309b1ec4-fac4-4747-9d39-d6d3fff2ddda",
   "metadata": {},
   "outputs": [],
   "source": [
    "{\n",
    "    \"->\": \"To the left of the arrow is the input, to the right of the arrow is the output\",\n",
    "    \"ik,kj\": \"Inputs are delimited by comma, so there are two in this case\",\n",
    "    \"ik\":\"Rank is denoted by the number of letters there are. `ik` and `kj` are both rank 2\",\n",
    "    \"kj\":\"These inputs are read (shape wise) as `k` by `j` or `i` by `k`\",\n",
    "    \"k\":\"When a letter is repeated across inputs, it is assumed to be a dot product along that dimension\",\n",
    "};"
   ]
  },
  {
   "cell_type": "code",
   "execution_count": 100,
   "id": "b6a28eb6-be26-40af-8cea-f0bbaffd34a5",
   "metadata": {},
   "outputs": [
    {
     "name": "stdout",
     "output_type": "stream",
     "text": [
      "101 µs ± 42.7 µs per loop (mean ± std. dev. of 7 runs, 10 loops each)\n"
     ]
    }
   ],
   "source": [
    "%timeit -n 10 _=matmul(m1,m2)"
   ]
  },
  {
   "cell_type": "markdown",
   "id": "f4b97af5-d6da-4b0b-8d14-8f3044530bb1",
   "metadata": {},
   "source": [
    "### pytorch op"
   ]
  },
  {
   "cell_type": "markdown",
   "id": "3d747db7-9b2b-4e2a-8627-10ca59c8beaa",
   "metadata": {},
   "source": [
    "Since we have now explored matmul to it's fullest extent, we can utilize pytorch's operator directly for matrix multiplication:"
   ]
  },
  {
   "cell_type": "code",
   "execution_count": 101,
   "id": "5f27d7ad-0ced-41d1-ab9b-7db2c9f86cf7",
   "metadata": {},
   "outputs": [
    {
     "name": "stdout",
     "output_type": "stream",
     "text": [
      "The slowest run took 19.75 times longer than the fastest. This could mean that an intermediate result is being cached.\n",
      "13.1 µs ± 22.9 µs per loop (mean ± std. dev. of 7 runs, 10 loops each)\n"
     ]
    }
   ],
   "source": [
    "%timeit -n 10 t2 = m1.matmul(m2)"
   ]
  },
  {
   "cell_type": "markdown",
   "id": "b1eb21e2-8625-42fa-bce2-2fbd00d31486",
   "metadata": {},
   "source": [
    "The matmul is pushed to a BLAS (basic linear algebra subprogram) cuBLAS for nvidia, ex. This is what the M1 has for example and how they entered the space."
   ]
  },
  {
   "cell_type": "markdown",
   "id": "a484840e-4387-4c8e-acca-debff8efab1e",
   "metadata": {},
   "source": [
    "matmul is so common and useful that it has it's own operator, `@`:"
   ]
  },
  {
   "cell_type": "code",
   "execution_count": 103,
   "id": "8b6eb985-e244-405e-9f28-1ed3e3450c2b",
   "metadata": {},
   "outputs": [],
   "source": [
    "t2 = m1@m2"
   ]
  },
  {
   "cell_type": "code",
   "execution_count": 104,
   "id": "be7dc26d-bd13-4275-a6d5-d149cc1795cc",
   "metadata": {},
   "outputs": [],
   "source": [
    "test_close(t1,t2)"
   ]
  },
  {
   "cell_type": "markdown",
   "id": "dfc3e094-3c97-4fbf-a9ec-27457c09d764",
   "metadata": {},
   "source": [
    "This is the exact same speed as `m1.matmul(m2)`"
   ]
  },
  {
   "cell_type": "markdown",
   "id": "335e4818-edbe-4a9d-aa9f-f13d06964cf4",
   "metadata": {},
   "source": [
    "# Export - "
   ]
  },
  {
   "cell_type": "code",
   "execution_count": 109,
   "id": "f89dda94-d8e0-4ea9-aa69-61548636ee62",
   "metadata": {},
   "outputs": [
    {
     "name": "stdout",
     "output_type": "stream",
     "text": [
      "Converted matmul.ipynb.\n"
     ]
    }
   ],
   "source": [
    "from nbdev.export import notebook2script\n",
    "notebook2script(\"matmul.ipynb\")"
   ]
  },
  {
   "cell_type": "code",
   "execution_count": null,
   "id": "fb4402b8-a103-4a3b-9150-dcebd4c0b7ef",
   "metadata": {},
   "outputs": [],
   "source": []
  }
 ],
 "metadata": {
  "kernelspec": {
   "display_name": "Python 3 (ipykernel)",
   "language": "python",
   "name": "python3"
  },
  "language_info": {
   "codemirror_mode": {
    "name": "ipython",
    "version": 3
   },
   "file_extension": ".py",
   "mimetype": "text/x-python",
   "name": "python",
   "nbconvert_exporter": "python",
   "pygments_lexer": "ipython3",
   "version": "3.7.13"
  }
 },
 "nbformat": 4,
 "nbformat_minor": 5
}
