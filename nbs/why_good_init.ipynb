{
 "cells": [
  {
   "cell_type": "markdown",
   "id": "0bb3f861-ace5-45c8-a704-216f92850da4",
   "metadata": {},
   "source": [
    "# Why does the initialization matter?\n",
    "> A notebook by Sylvain Gugger (paraphrased by me)"
   ]
  },
  {
   "cell_type": "code",
   "execution_count": 1,
   "id": "e26f977f-e8f7-4e30-b485-4574ca82e55a",
   "metadata": {},
   "outputs": [],
   "source": [
    "import torch"
   ]
  },
  {
   "cell_type": "markdown",
   "id": "de2e596c-c348-4d73-aea5-c8c5871ab5df",
   "metadata": {},
   "source": [
    "If we take a vector `x` of shape `(1x512)` and a matrix `a` of shape `(512x512)`, initialize them randomly, and multiply it by a pseudo 100 layer network (aka multiply them 100 times), what happens?"
   ]
  },
  {
   "cell_type": "code",
   "execution_count": 39,
   "id": "b0e75144-11a4-4ef2-881a-8e1138e5c79d",
   "metadata": {},
   "outputs": [
    {
     "data": {
      "text/plain": [
       "(tensor(nan), tensor(nan))"
      ]
     },
     "execution_count": 39,
     "metadata": {},
     "output_type": "execute_result"
    }
   ],
   "source": [
    "x = torch.randn(512)\n",
    "a = torch.randn(512,512)\n",
    "\n",
    "for i in range(100):\n",
    "    x = a @ x\n",
    "\n",
    "x.mean(), x.std()"
   ]
  },
  {
   "cell_type": "markdown",
   "id": "c1cfee93-f22c-4def-badf-7cea3e199ee5",
   "metadata": {},
   "source": [
    "This phenominon is called **activation explosion**, where the activations go to NaN. We can figure out exactly when that happens:"
   ]
  },
  {
   "cell_type": "code",
   "execution_count": 40,
   "id": "34851069-8299-4219-af93-013d0c78e40f",
   "metadata": {},
   "outputs": [],
   "source": [
    "x = torch.randn(512)\n",
    "a = torch.randn(512,512)\n",
    "\n",
    "for i in range(100):\n",
    "    x = a @ x\n",
    "    if x.std() != x.std():\n",
    "        break"
   ]
  },
  {
   "cell_type": "markdown",
   "id": "177b0d40",
   "metadata": {},
   "source": [
    "#| explain \"if x.std() != x.std()\"\n",
    "NaN numbers will always return `False` against itself"
   ]
  },
  {
   "cell_type": "code",
   "execution_count": 42,
   "id": "a17e01f9-cf80-487f-aa1d-0dc6f5ad506e",
   "metadata": {},
   "outputs": [
    {
     "data": {
      "text/plain": [
       "27"
      ]
     },
     "execution_count": 42,
     "metadata": {},
     "output_type": "execute_result"
    }
   ],
   "source": [
    "i"
   ]
  },
  {
   "cell_type": "markdown",
   "id": "b45cf8f3-0e6a-4fa9-b491-2de868c3a9f6",
   "metadata": {},
   "source": [
    "It took 26 multiplication before the gradients died and the activations could no longer be kept track of.\n",
    "\n",
    "What happens instead if we make `a` extremely small and have the activations scale slowly?"
   ]
  },
  {
   "cell_type": "code",
   "execution_count": 44,
   "id": "46614aaf-8786-48b1-b050-7fadadb2b883",
   "metadata": {},
   "outputs": [
    {
     "data": {
      "text/plain": [
       "(tensor(0.), tensor(0.))"
      ]
     },
     "execution_count": 44,
     "metadata": {},
     "output_type": "execute_result"
    }
   ],
   "source": [
    "x = torch.randn(512)\n",
    "a = torch.randn(512,512) * 0.01\n",
    "for i in range(100):\n",
    "    x = a @ x\n",
    "    \n",
    "x.mean(), x.std()"
   ]
  },
  {
   "cell_type": "markdown",
   "id": "9fea6142-e8c4-40c5-b799-9bded2c22c74",
   "metadata": {},
   "source": [
    "All of our activations **vanished** this time. The initialization matters immensely to get a decent starting point. \n",
    "\n",
    "This is also why for decades you couldn't train deep nn's.\n",
    "\n",
    "Now go back to the [other notebook](https://muellerzr.github.io/fastai-2019-pt2-notes/why_sqrt5) to \"To Twitter We Go\""
   ]
  },
  {
   "cell_type": "code",
   "execution_count": null,
   "id": "bfb3e88f-2190-431c-9b0b-2fa6704fba9b",
   "metadata": {},
   "outputs": [],
   "source": []
  }
 ],
 "metadata": {
  "kernelspec": {
   "display_name": "Python 3 (ipykernel)",
   "language": "python",
   "name": "python3"
  },
  "language_info": {
   "codemirror_mode": {
    "name": "ipython",
    "version": 3
   },
   "file_extension": ".py",
   "mimetype": "text/x-python",
   "name": "python",
   "nbconvert_exporter": "python",
   "pygments_lexer": "ipython3",
   "version": "3.7.13"
  }
 },
 "nbformat": 4,
 "nbformat_minor": 5
}
