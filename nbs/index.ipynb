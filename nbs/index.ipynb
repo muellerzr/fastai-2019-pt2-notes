{
 "cells": [
  {
   "cell_type": "markdown",
   "metadata": {},
   "source": [
    "# fastai 2019 pt2 notes\n"
   ]
  },
  {
   "cell_type": "markdown",
   "metadata": {},
   "source": [
    "\n",
    "This is my \"speedrunning\" attempt to see how far I can get in [Deep Learning from the Foundations](https://course19.fast.ai) before the new course begins. \n",
    "\n",
    "This repo contains annotated notes -- in my own special format -- that are then hosted live on the docs where they make \n",
    "much more sense! \n",
    "\n",
    "This special format for right now is propritary, but you can easily grasp that it utilizes nbdev to achieve what I was \n",
    "trying to do. If you want a challenge, try to recreate what I made with nbdev v2 (something this isn't) and force me to \n",
    "reveal my secrets ;) Otherwise they shall remain a (mild) secret until I've ported them myself and I feel the time is right.\n",
    "\n",
    "But, tl;dr:\n",
    "\n",
    "- This is a 1:1 followthrough of the **videos** in Deep Learning from the Foundations, taken in October of 2022.\n",
    "- As a result any issues with the course will have been explored and rectified in these notes\n",
    "- These notes are **best viewed live** directly on https://muellerzr.github.io/fastai-2019-pt2-notes, though the notebooks can still be useful!"
   ]
  },
  {
   "cell_type": "markdown",
   "metadata": {},
   "source": []
  }
 ],
 "metadata": {
  "language_info": {
   "name": "python"
  },
  "orig_nbformat": 4
 },
 "nbformat": 4,
 "nbformat_minor": 2
}
