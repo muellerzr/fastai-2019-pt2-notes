{
 "cells": [
  {
   "cell_type": "markdown",
   "id": "0bb3f861-ace5-45c8-a704-216f92850da4",
   "metadata": {},
   "source": [
    "# Impractical Deep Learning for Coders Lesson 1, Matrix Multiplication\n",
    "> Implementing matrix multiplication from scratch"
   ]
  },
  {
   "cell_type": "markdown",
   "id": "d04c4af5-b324-4aca-aa33-691144747ed1",
   "metadata": {},
   "source": [
    "The game: Recreate fastai, while only being able to use:\n",
    "\n",
    "- Python\n",
    "- Python stdlib\n",
    "- Non-data science modules\n",
    "- PyTorch array creation, RNG, and indexing\n",
    "- `datasets`\n",
    "- matplotlib\n",
    "\n",
    "The game I will also be playing:\n",
    "\n",
    "- Do this while also trying experimental note annotation\n",
    "- Would I have done a different decision in implementing something than Jeremy has? If so, **do it!**\n",
    "- **No `import *`**"
   ]
  },
  {
   "cell_type": "markdown",
   "id": "4b7800bd-a2f8-4bf1-9fcb-be1d2c0328e3",
   "metadata": {},
   "source": [
    "> The difference between effective people in Deep Learning and the rest is who can make things in code that can work properly, and there's very few of those people - Jeremy Howard"
   ]
  },
  {
   "cell_type": "markdown",
   "id": "ea790a87-abf1-435e-89e0-b660b2df00cb",
   "metadata": {},
   "source": [
    "3 steps to training a really good model:\n",
    "\n",
    "1. Overfit a model -- validation error increases\n",
    "2. Reduce overfitting\n",
    "3. There is no step 3 -- jk, experiment and toy with\n",
    "\n",
    "How to avoid overfitting from A -> F\n",
    "\n",
    "1. Get more data\n",
    "2. Perform more data augmentation\n",
    "3. Use a more generalizable architecture\n",
    "4. Try adding regularization (DropOut, wd)\n",
    "5. Reduce architecture complexity\n",
    "\n",
    "4 & 5 both have the least impact, start with the first 3"
   ]
  },
  {
   "cell_type": "code",
   "execution_count": 2,
   "id": "9cd3b8dd-5faf-4ab0-acd6-68fae8db4109",
   "metadata": {},
   "outputs": [],
   "source": [
    "#export\n",
    "from pathlib import Path\n",
    "from IPython.core.debugger import set_trace\n",
    "import pickle, gzip, math, torch, matplotlib as mpl\n",
    "import matplotlib.pyplot as plt\n",
    "from torch import tensor\n",
    "from fastcore.test import test_eq\n",
    "\n",
    "from fastdownload import FastDownload"
   ]
  },
  {
   "cell_type": "markdown",
   "id": "6cf8704f-6fa6-47cc-a60f-4d9c236e252b",
   "metadata": {},
   "source": [
    "First we need to download the dataset we are using, which will be MNIST"
   ]
  },
  {
   "cell_type": "markdown",
   "id": "1ee765b0-0c93-4209-9688-916129ea89a0",
   "metadata": {},
   "source": [
    "#### Code"
   ]
  },
  {
   "cell_type": "code",
   "execution_count": 3,
   "id": "c8a35542-78a5-4107-9b98-9986d66fc6f7",
   "metadata": {},
   "outputs": [
    {
     "data": {
      "text/plain": [
       "Path('/home/zach/.fastai/archive/25635053')"
      ]
     },
     "execution_count": 3,
     "metadata": {},
     "output_type": "execute_result"
    }
   ],
   "source": [
    "url = \"https://figshare.com/ndownloader/files/25635053\"\n",
    "fd = FastDownload(base=\"~/.fastai\")"
   ]
  },
  {
   "cell_type": "code",
   "execution_count": 4,
   "id": "9c3045d5-0809-470e-af20-49a04f63f800",
   "metadata": {},
   "outputs": [
    {
     "data": {
      "text/plain": [
       "Path('/home/zach/.fastai/archive/25635053')"
      ]
     },
     "execution_count": 4,
     "metadata": {},
     "output_type": "execute_result"
    }
   ],
   "source": [
    "path = fd.download(url); path"
   ]
  },
  {
   "cell_type": "markdown",
   "id": "3aec3b14-fee5-4d72-804a-1cb9d350cf11",
   "metadata": {},
   "source": [
    "#### Explanation\n"
   ]
  },
  {
   "cell_type": "code",
   "execution_count": 7,
   "id": "06b98fa7-00c7-4c81-9b66-faa3fed0d0f6",
   "metadata": {},
   "outputs": [],
   "source": [
    "{\n",
    "    \"https://figshare.com/ndownloader/files/25635053\": \"deeplearning.net is no longer up, so we use a version of Yann LeCun's dataset\",\n",
    "    \"FastDownload(base='~/.fastai')\": \"We utilize fastdownload's `FastDownload` class to handle the downloading of the data. `from fastai import datasets` is no longer a thing.\",\n",
    "    \"fd.download(url)\": \"Perform the actual downloading\"\n",
    "};"
   ]
  },
  {
   "cell_type": "code",
   "execution_count": 13,
   "id": "0209b9a2-8438-4e7b-aaba-d262502468d6",
   "metadata": {},
   "outputs": [],
   "source": [
    "with gzip.open(path, 'rb') as f:\n",
    "    ((x_train,y_train), (x_valid, y_valid), _) = pickle.load(f, encoding='latin-1')"
   ]
  },
  {
   "cell_type": "markdown",
   "id": "928eeff5-4640-453e-8f7a-992d996319fd",
   "metadata": {},
   "source": [
    "The downloaded data contains `numpy` arrays, which are not allowed so they must be converted to tensors"
   ]
  },
  {
   "cell_type": "markdown",
   "id": "ffbba7fe-0624-4390-8678-9bdcf2a40eb4",
   "metadata": {},
   "source": [
    "#### Code"
   ]
  },
  {
   "cell_type": "code",
   "execution_count": 14,
   "id": "4699d7b5-75ff-48b8-b7a0-9a8769bd4c09",
   "metadata": {},
   "outputs": [],
   "source": [
    "x_train,y_train,x_valid,y_valid = map(tensor, (x_train,y_train,x_valid,y_valid))\n",
    "n,c = x_train.shape"
   ]
  },
  {
   "cell_type": "code",
   "execution_count": 15,
   "id": "e2d93133-153a-4ee2-84ac-1bd0fbd48545",
   "metadata": {},
   "outputs": [
    {
     "data": {
      "text/plain": [
       "(tensor([[0., 0., 0.,  ..., 0., 0., 0.],\n",
       "         [0., 0., 0.,  ..., 0., 0., 0.],\n",
       "         [0., 0., 0.,  ..., 0., 0., 0.],\n",
       "         ...,\n",
       "         [0., 0., 0.,  ..., 0., 0., 0.],\n",
       "         [0., 0., 0.,  ..., 0., 0., 0.],\n",
       "         [0., 0., 0.,  ..., 0., 0., 0.]]),\n",
       " torch.Size([50000, 784]),\n",
       " tensor([5, 0, 4,  ..., 8, 4, 8]),\n",
       " torch.Size([50000]),\n",
       " tensor(0),\n",
       " tensor(9))"
      ]
     },
     "execution_count": 15,
     "metadata": {},
     "output_type": "execute_result"
    }
   ],
   "source": [
    "x_train, x_train.shape, y_train, y_train.shape, y_train.min(), y_train.max()"
   ]
  },
  {
   "cell_type": "markdown",
   "id": "064704cc-7da4-41aa-9920-b45c8f4306f5",
   "metadata": {},
   "source": [
    "#### Explanation"
   ]
  },
  {
   "cell_type": "code",
   "execution_count": 10,
   "id": "9e29bdde-d85c-457b-b9ae-711c18cd7f30",
   "metadata": {},
   "outputs": [],
   "source": [
    "{\n",
    "    \"map(tensor, (x_train,y_train,x_valid,y_valid))\": \"Applys `torch.tensor` across the four arrays, converting them all into tensors\",\n",
    "    \"n,c = x_train.shape\": \"`n` = the number of rows in the training set, `c` = the number of columns in the training set\"\n",
    "};"
   ]
  },
  {
   "cell_type": "markdown",
   "id": "31dde0ca-dc0d-4cdd-b950-499f306dd74c",
   "metadata": {},
   "source": [
    "#### Code"
   ]
  },
  {
   "cell_type": "code",
   "execution_count": 31,
   "id": "a9fa13a6-dd6c-4f9e-b0b6-3a65c66cff67",
   "metadata": {},
   "outputs": [],
   "source": [
    "assert n==y_train.shape[0]==50000\n",
    "test_eq(c, 28*28)\n",
    "test_eq(y_train.min(),0)\n",
    "test_eq(y_train.max(),9)"
   ]
  },
  {
   "cell_type": "markdown",
   "id": "e18e81f1-de0c-47a7-9230-529bfe540063",
   "metadata": {},
   "source": [
    "#### Explanation"
   ]
  },
  {
   "cell_type": "code",
   "execution_count": 32,
   "id": "c13d816f-9994-43be-8f07-e812fd5b8163",
   "metadata": {},
   "outputs": [],
   "source": [
    "{\n",
    "    \"assert n==y_train.shape[0]==50000\": \"Verify there are 50,000 items in the dataset\",\n",
    "    \"test_eq(c, 28*28)\": \"Verify that each item is 28x28 numbers\",\n",
    "    \"test_eq(y_train.min(),0)\": \"Verify the lowest class in the y labels is 0\",\n",
    "    \"test_eq(y_train.max(),9)\": \"Verify the highest class in the y labels is 9\"\n",
    "};"
   ]
  },
  {
   "cell_type": "markdown",
   "id": "6bf7297d-f745-4121-b935-3bac8c2ce7c3",
   "metadata": {},
   "source": [
    "#### Code"
   ]
  },
  {
   "cell_type": "code",
   "execution_count": 16,
   "id": "d7a4372a-6c4f-43c1-8462-4fe99183cd12",
   "metadata": {},
   "outputs": [],
   "source": [
    "mpl.rcParams[\"image.cmap\"] = 'gray'\n",
    "img = x_train[0]\n",
    "assert img.view(28,28).type() == 'torch.FloatTensor'"
   ]
  },
  {
   "cell_type": "markdown",
   "id": "0897470d-9e4f-4196-9b02-731b638b7c58",
   "metadata": {},
   "source": [
    "#### Explanation"
   ]
  },
  {
   "cell_type": "code",
   "execution_count": 17,
   "id": "ed0d4e51-8c88-4d99-89ea-879e61e1be72",
   "metadata": {},
   "outputs": [],
   "source": [
    "{\n",
    "    \"img = x_train[0]\": \"Get one set of data from the dataset\",\n",
    "    \"img.view(28,28).type()\": \"Check after viewing it as a 28,28 (more on this next) that the type is still a FloatTensor\"\n",
    "};"
   ]
  },
  {
   "cell_type": "markdown",
   "id": "1104749e-22d7-4460-8c45-e99620a734b9",
   "metadata": {},
   "source": [
    "#### Code"
   ]
  },
  {
   "cell_type": "code",
   "execution_count": 38,
   "id": "f8bfe13e-72c8-40c5-8748-d4d44de8d4ea",
   "metadata": {},
   "outputs": [
    {
     "data": {
      "image/png": "[encoded data removed]",
      "text/plain": [
       "<Figure size 640x480 with 1 Axes>"
      ]
     },
     "metadata": {},
     "output_type": "display_data"
    }
   ],
   "source": [
    "plt.imshow(img.view((28,28)));"
   ]
  },
  {
   "cell_type": "markdown",
   "id": "7b490e96-b8c7-47b4-8ec9-19a1b0c57275",
   "metadata": {},
   "source": [
    "#### Explanation"
   ]
  },
  {
   "cell_type": "code",
   "execution_count": 39,
   "id": "9727a26a-da97-45a5-bb15-e7b56645aa9a",
   "metadata": {},
   "outputs": [],
   "source": [
    "{\n",
    "    \"img.view((28,28))\": \"Reshape our 168 long vector into a 28x28 matrix\"\n",
    "};"
   ]
  },
  {
   "cell_type": "code",
   "execution_count": 18,
   "id": "981faebf-dd7d-4cd7-a0b5-0cdd3ca4ae9c",
   "metadata": {},
   "outputs": [
    {
     "data": {
      "image/png": "[encoded data removed]",
      "text/plain": [
       "<Figure size 640x480 with 1 Axes>"
      ]
     },
     "metadata": {},
     "output_type": "display_data"
    }
   ],
   "source": [
    "#hide_input\n",
    "plt.imshow(img.view((28,28)));"
   ]
  },
  {
   "cell_type": "markdown",
   "id": "4a8764e9-efce-47a0-92f4-61b597e769d8",
   "metadata": {},
   "source": [
    "## Initial python model\n",
    "\n",
    "Create a simple linear model, of something akin to `y=ax+b`"
   ]
  },
  {
   "cell_type": "markdown",
   "id": "54df4536-6796-4df2-aae8-622ea001b5d2",
   "metadata": {},
   "source": [
    "#### Code"
   ]
  },
  {
   "cell_type": "code",
   "execution_count": 52,
   "id": "2620bf11-e268-42b4-aa8d-1d26947af30c",
   "metadata": {},
   "outputs": [],
   "source": [
    "weights = torch.randn(784,10)\n",
    "bias = torch.zeros(10)"
   ]
  },
  {
   "cell_type": "markdown",
   "id": "5c156795-5cef-4dd2-938d-8f1d99fc61ea",
   "metadata": {},
   "source": [
    "#### Explanation"
   ]
  },
  {
   "cell_type": "code",
   "execution_count": 40,
   "id": "e7119a7d-01cc-4042-926d-7d610401098f",
   "metadata": {},
   "outputs": [],
   "source": [
    "{\n",
    "    \"torch.randn(784,10)\": \"This operates as `a`, a 784x10 matrix where 784==length of the array, 10==num going out\",\n",
    "    \"torch.zeros(10)\": \"The bias will just start as 10 zeros\"\n",
    "};"
   ]
  },
  {
   "cell_type": "markdown",
   "id": "643b046c-7f43-4053-b4d5-24a0dc21c4a7",
   "metadata": {
    "tags": []
   },
   "source": [
    "### Matrix Multiplication\n",
    "\n",
    "Core of the basic of machine learning, \"affine functions\".\n",
    "\n",
    "[Cool website to visualize](https://matrixmultiplication.xyz)"
   ]
  },
  {
   "cell_type": "markdown",
   "id": "4b46d6c4-0a4a-4e31-ba60-65a6f7e2a8e7",
   "metadata": {},
   "source": [
    "#### Code"
   ]
  },
  {
   "cell_type": "code",
   "execution_count": 60,
   "id": "3dd13936-0c07-4c93-b17d-f28209d0b448",
   "metadata": {},
   "outputs": [],
   "source": [
    "def matmul(a,b):\n",
    "    ar,ac = a.shape\n",
    "    br,bc = b.shape\n",
    "    assert ac==br\n",
    "    c = torch.zeros(ar,bc)\n",
    "    for i in range(ar):\n",
    "        for j in range(bc):\n",
    "            for k in range(ac): # or br\n",
    "                c[i,j] += a[i,k] * b[k,j]\n",
    "    return c"
   ]
  },
  {
   "cell_type": "markdown",
   "id": "cea8a64e-ddcb-4c31-9cb3-dd73c1ffc21f",
   "metadata": {},
   "source": [
    "#### Explanation"
   ]
  },
  {
   "cell_type": "code",
   "execution_count": 61,
   "id": "cabed095-abc2-4e0a-81f0-34ecf359fef3",
   "metadata": {},
   "outputs": [],
   "source": [
    "{\n",
    "    \"(a,b)\": \"`a` and `b` are two matricies which should be multiplied\",\n",
    "    \"assert ac==br\": \"Matrix multiplication cannot occur unless the number of columns in `a` aligns with the number of rows in `b`\",\n",
    "    \"c\":\"`c` is the resulting matrix, which has a shape of `a`'s rows and `b`'s columns\",\n",
    "    \"for i in range(ar):\": \"Loop of matrix B as a whole scrolling down matrix A *sideways*, imagine going row by row like a curtain coming down slowly\",\n",
    "    \"for j in range(bc):\": \"Loop of each column in matrix B at each row in matrix A\",\n",
    "    \"for k in range(ac):\": \"The actual loop of multiplying and adding (matrix multiplication)\",\n",
    "    \"c[i,j] += a[i,k] * b[k,j]\": \"The actual multiplication being performed\"\n",
    "};"
   ]
  },
  {
   "cell_type": "markdown",
   "id": "fa64a242-751b-445b-bd3a-b8ba097f3e49",
   "metadata": {},
   "source": [
    "#### Code"
   ]
  },
  {
   "cell_type": "code",
   "execution_count": 62,
   "id": "4a55e8c6-7f98-4ed7-8afa-dbb61e7a9723",
   "metadata": {},
   "outputs": [],
   "source": [
    "m1 = x_valid[:5]\n",
    "m2 = weights"
   ]
  },
  {
   "cell_type": "markdown",
   "id": "f23caf47-7c62-4798-b344-328beef75a90",
   "metadata": {},
   "source": [
    "#### Explanation"
   ]
  },
  {
   "cell_type": "code",
   "execution_count": 63,
   "id": "9fa966be-fa9c-4e91-8ab8-e05a39e53a28",
   "metadata": {},
   "outputs": [],
   "source": [
    "{\n",
    "    \"m1\": \"Five rows of the validation set\",\n",
    "    \"m2\": \"Weight matrix\"\n",
    "};"
   ]
  },
  {
   "cell_type": "code",
   "execution_count": 64,
   "id": "6adc52e5-484d-4ba9-beab-8d2a8f3e340b",
   "metadata": {},
   "outputs": [
    {
     "data": {
      "text/plain": [
       "(torch.Size([5, 784]), torch.Size([784, 10]))"
      ]
     },
     "execution_count": 64,
     "metadata": {},
     "output_type": "execute_result"
    }
   ],
   "source": [
    "m1.shape, m2.shape"
   ]
  },
  {
   "cell_type": "code",
   "execution_count": 65,
   "id": "f270bdde-993e-4160-80fb-a5705a8da302",
   "metadata": {},
   "outputs": [
    {
     "name": "stdout",
     "output_type": "stream",
     "text": [
      "CPU times: user 395 ms, sys: 0 ns, total: 395 ms\n",
      "Wall time: 391 ms\n"
     ]
    }
   ],
   "source": [
    "%time t1=matmul(m1, m2)"
   ]
  },
  {
   "cell_type": "code",
   "execution_count": 67,
   "id": "04d243f1-dc64-4ab4-b523-f3bd3699710a",
   "metadata": {},
   "outputs": [
    {
     "data": {
      "text/plain": [
       "torch.Size([5, 10])"
      ]
     },
     "execution_count": 67,
     "metadata": {},
     "output_type": "execute_result"
    }
   ],
   "source": [
    "t1.shape # 5 row, 10 col output"
   ]
  },
  {
   "cell_type": "code",
   "execution_count": 19,
   "id": "f369a59e-3be7-46ea-83b2-6ab771fa5767",
   "metadata": {},
   "outputs": [
    {
     "data": {
      "text/plain": [
       "50000"
      ]
     },
     "execution_count": 19,
     "metadata": {},
     "output_type": "execute_result"
    }
   ],
   "source": [
    "len(x_train)"
   ]
  },
  {
   "cell_type": "markdown",
   "id": "9ea6f73f-c633-4b3d-80c4-2f44b43180ff",
   "metadata": {},
   "source": [
    "This is quite slow. To do a single epoch it would take ~20,000 seconds on the computer I'm using to take notes. (50,000 on Jeremy's).\n",
    "\n",
    "This is also why we don't write things in Python. It's **unreasonably slow**. \n",
    "\n",
    "New goal, can we speed this up 50,000 times"
   ]
  },
  {
   "cell_type": "markdown",
   "id": "8ee4c0c9-79c9-4503-8a43-4c5b4836c6bf",
   "metadata": {},
   "source": [
    "### Elementwise operations"
   ]
  },
  {
   "cell_type": "markdown",
   "id": "2abb9181-2870-4a97-aa74-d585251b29e5",
   "metadata": {},
   "source": [
    "To speed things up, start with the innermost loop and make things just a little bit faster\n",
    "\n",
    "> The way to make Python faster is to remove python - Jeremy Howard\n",
    "\n",
    "EWO's include (+,-,*,/,>,<,==)\n",
    "\n",
    "Example with two tensors:"
   ]
  },
  {
   "cell_type": "code",
   "execution_count": 23,
   "id": "114bce02-6364-44d6-b6d2-efb2d1dd733a",
   "metadata": {},
   "outputs": [
    {
     "data": {
      "text/plain": [
       "(tensor([10.,  6., -4.]), tensor([2., 8., 7.]))"
      ]
     },
     "execution_count": 23,
     "metadata": {},
     "output_type": "execute_result"
    }
   ],
   "source": [
    "a = tensor([10., 6, -4])\n",
    "b = tensor([2., 8, 7])\n",
    "a,b"
   ]
  },
  {
   "cell_type": "code",
   "execution_count": 27,
   "id": "e82e5c84-a511-40bc-a709-05f966e7ff80",
   "metadata": {},
   "outputs": [
    {
     "data": {
      "text/plain": [
       "tensor([12., 14.,  3.])"
      ]
     },
     "execution_count": 27,
     "metadata": {},
     "output_type": "execute_result"
    }
   ],
   "source": [
    "a+b"
   ]
  },
  {
   "cell_type": "markdown",
   "id": "000de174-a1e4-4c50-bcee-e6b17929c719",
   "metadata": {},
   "source": [
    "We performed `c[0] = a[0]+b[0]`, `c[1] = a[1] + b[1]`, ..."
   ]
  },
  {
   "cell_type": "markdown",
   "id": "c485f39a-9866-4da9-baaf-d9892df790cf",
   "metadata": {},
   "source": [
    "#### Code"
   ]
  },
  {
   "cell_type": "code",
   "execution_count": 31,
   "id": "f4ee464a-4844-4c59-be6c-f1b2346442a8",
   "metadata": {},
   "outputs": [],
   "source": [
    "c = (a < b)\n",
    "c = c.float().mean()"
   ]
  },
  {
   "cell_type": "markdown",
   "id": "0ae48e9b-8a28-47ab-ba5c-e3feeb9bf030",
   "metadata": {},
   "source": [
    "#### Explanation"
   ]
  },
  {
   "cell_type": "code",
   "execution_count": 32,
   "id": "8e13fbcb-6230-40b2-b679-1dca0067b70d",
   "metadata": {},
   "outputs": [],
   "source": [
    "{\n",
    "    \"c = (a < b)\": \"We performed `c[0] = a[0]< b[0]`, `c[1] = a[1] < b[1]`, ...\",\n",
    "    \"c\":\"This becomes a boolean array of `[False, True, True]`, having an average of 2/3's\"\n",
    "};"
   ]
  },
  {
   "cell_type": "code",
   "execution_count": 33,
   "id": "353be2bf-5a87-4b20-99b0-22d63083eb7b",
   "metadata": {},
   "outputs": [
    {
     "data": {
      "text/plain": [
       "tensor(0.6667)"
      ]
     },
     "execution_count": 33,
     "metadata": {},
     "output_type": "execute_result"
    }
   ],
   "source": [
    "c"
   ]
  },
  {
   "cell_type": "markdown",
   "id": "954a4422-93fa-4a3b-9bd3-96f0b737b2d4",
   "metadata": {},
   "source": [
    "Also known as what percentage of a is less than b. We could also perform the same on a rank 2 tensor (a tensor that has 2 dimensions), aka a matrix!"
   ]
  },
  {
   "cell_type": "code",
   "execution_count": 34,
   "id": "59881a1f-a01f-4dfe-bbc1-10484844fcb6",
   "metadata": {},
   "outputs": [
    {
     "data": {
      "text/plain": [
       "tensor([[1., 2., 3.],\n",
       "        [4., 5., 6.],\n",
       "        [7., 8., 9.]])"
      ]
     },
     "execution_count": 34,
     "metadata": {},
     "output_type": "execute_result"
    }
   ],
   "source": [
    "m = tensor([[1., 2, 3], [4,5,6], [7,8,9]]); m"
   ]
  },
  {
   "cell_type": "markdown",
   "id": "5c34fa7a-155f-4bfc-b701-30ad9701117d",
   "metadata": {},
   "source": [
    "> Note: We only convert the first number to a float as PyTorch will realize this and cast the rest as a float"
   ]
  },
  {
   "cell_type": "markdown",
   "id": "1a593162-9aae-41a4-818a-c164db1df947",
   "metadata": {},
   "source": [
    "Frobenius norm:\n",
    "\n",
    "*I have no idea what this is/remember what this is*\n",
    "\n",
    "<img src=\"https://mathworld.wolfram.com/images/equations/FrobeniusNorm/NumberedEquation1.svg\" alt=\"drawing\" width=\"400\"/>\n"
   ]
  },
  {
   "cell_type": "markdown",
   "id": "c401141c-7367-4b1d-936d-6cb87e7dc99b",
   "metadata": {},
   "source": [
    "$$\\|A\\|_F \\equiv \\sqrt{\\sum_{i=1}^m \\sum_{j=1}^n\\left|a_{i j}\\right|^2}$$"
   ]
  },
  {
   "cell_type": "code",
   "execution_count": 35,
   "id": "89e8d9c3-9454-4aa3-8fd2-5a1988e524e7",
   "metadata": {},
   "outputs": [
    {
     "data": {
      "text/plain": [
       "tensor(16.8819)"
      ]
     },
     "execution_count": 35,
     "metadata": {},
     "output_type": "execute_result"
    }
   ],
   "source": [
    "(m*m).sum().sqrt()"
   ]
  },
  {
   "cell_type": "markdown",
   "id": "b4a27b14-e554-4ecf-b065-610431a16326",
   "metadata": {},
   "source": [
    "Here is where I'd love to be able to draw and have each part layered out, so instead we'll experiment with my annotation a bit:"
   ]
  },
  {
   "cell_type": "markdown",
   "id": "e5bbbb52-2f23-494a-b08e-158ace0e39cb",
   "metadata": {},
   "source": [
    "### Code"
   ]
  },
  {
   "cell_type": "code",
   "execution_count": 38,
   "id": "f58bb16f-f487-46ab-a787-f2dd3acc00b8",
   "metadata": {},
   "outputs": [
    {
     "data": {
      "text/plain": [
       "tensor(16.8819)"
      ]
     },
     "execution_count": 38,
     "metadata": {},
     "output_type": "execute_result"
    }
   ],
   "source": [
    "n = torch.clone(m) # For readability\n",
    "(m*n).sum().sqrt()"
   ]
  },
  {
   "cell_type": "markdown",
   "id": "5cc9bd72-e69b-431b-895e-8f89f4b374d5",
   "metadata": {},
   "source": [
    "### Explanation"
   ]
  },
  {
   "cell_type": "code",
   "execution_count": 43,
   "id": "6cc35f29-9316-49c8-a96a-c7ed49939d6a",
   "metadata": {},
   "outputs": [],
   "source": [
    "{\n",
    "    \"m*n\":\"This correlates to $$\\left|a_{i j}\\right|$$\",\n",
    "    \".sum()\": \"This is a combination of $$\\sum_{i \\mathop =1}^m and \\sum_{j \\mathop =1}^n\",\n",
    "    \".sqrt()\": \"This correlates to this part (which has the above two parts under it as 'result') $$\\sqrt{result}$$\"\n",
    "};"
   ]
  },
  {
   "cell_type": "code",
   "execution_count": 39,
   "id": "7ac98ede-480c-4b6c-9500-f28068a0065c",
   "metadata": {},
   "outputs": [
    {
     "data": {
      "text/plain": [
       "tensor(16.8819)"
      ]
     },
     "execution_count": 39,
     "metadata": {},
     "output_type": "execute_result"
    }
   ],
   "source": [
    "#hide_input\n",
    "(m*n).sum().sqrt()"
   ]
  },
  {
   "cell_type": "code",
   "execution_count": null,
   "id": "010cdf26-90de-4ce4-8043-f3d34bbad6ee",
   "metadata": {},
   "outputs": [],
   "source": []
  }
 ],
 "metadata": {
  "kernelspec": {
   "display_name": "Python 3 (ipykernel)",
   "language": "python",
   "name": "python3"
  },
  "language_info": {
   "codemirror_mode": {
    "name": "ipython",
    "version": 3
   },
   "file_extension": ".py",
   "mimetype": "text/x-python",
   "name": "python",
   "nbconvert_exporter": "python",
   "pygments_lexer": "ipython3",
   "version": "3.7.13"
  }
 },
 "nbformat": 4,
 "nbformat_minor": 5
}
