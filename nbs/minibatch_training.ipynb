{
 "cells": [
  {
   "cell_type": "code",
   "execution_count": 1,
   "id": "67aa2380-468c-4ecb-a2e8-341a612508aa",
   "metadata": {},
   "outputs": [],
   "source": [
    "#| default_exp nb_04"
   ]
  },
  {
   "cell_type": "markdown",
   "id": "0bb3f861-ace5-45c8-a704-216f92850da4",
   "metadata": {},
   "source": [
    "# Impractical Deep Learning for Coders Lesson 2, Minibatch Training\n",
    "> We get to write the training loop!"
   ]
  },
  {
   "cell_type": "code",
   "execution_count": 20,
   "id": "678a245b-918e-4bdb-a30f-0b8c2385da87",
   "metadata": {},
   "outputs": [],
   "source": [
    "from coursenotes.nb_03 import get_data\n",
    "\n",
    "import torch.nn.functional as F\n",
    "import matplotlib as mpl\n",
    "\n",
    "from torch import nn\n",
    "import math"
   ]
  },
  {
   "cell_type": "markdown",
   "id": "8ff0788e-7d2d-467f-8490-57ed6fa2d0ed",
   "metadata": {},
   "source": [
    "## Initial Setup"
   ]
  },
  {
   "cell_type": "markdown",
   "id": "871a11cc-a9dc-4af0-b415-a76029bae886",
   "metadata": {},
   "source": [
    "### Setup Data\n",
    "\n",
    "This is based on the previous notebooks setup, explainations should be looked at there"
   ]
  },
  {
   "cell_type": "code",
   "execution_count": 6,
   "id": "fe8131fb-2a75-402c-a65a-7add2068d5bb",
   "metadata": {},
   "outputs": [],
   "source": [
    "mpl.rcParams['image.cmap'] = 'gray'\n",
    "\n",
    "x_train,y_train,x_valid,y_valid = get_data()\n",
    "\n",
    "n,m = x_train.shape\n",
    "c = y_train.max()+1\n",
    "nh = 50"
   ]
  },
  {
   "cell_type": "code",
   "execution_count": 8,
   "id": "4f7a7ded-a3c4-4862-a259-0e9cfffe76ce",
   "metadata": {},
   "outputs": [],
   "source": [
    "class BasicModel(nn.Module):\n",
    "    \"Basic fully connected model\"\n",
    "    def __init__(self, n_in, num_hidden, n_out):\n",
    "        super().__init__()\n",
    "        self.layers = [\n",
    "            nn.Linear(n_in,num_hidden),\n",
    "            nn.ReLU(),\n",
    "            nn.Linear(num_hidden, n_out)\n",
    "        ]\n",
    "        \n",
    "    def __call__(self, x):\n",
    "        for layer in self.layers:\n",
    "            x = layer(x)\n",
    "        return x"
   ]
  },
  {
   "cell_type": "code",
   "execution_count": 9,
   "id": "104b4605-be37-4c99-8fcf-a576bfb9220c",
   "metadata": {},
   "outputs": [],
   "source": [
    "model = BasicModel(m, nh, 10)"
   ]
  },
  {
   "cell_type": "code",
   "execution_count": 10,
   "id": "8e990190-33f8-43e1-9312-b1c30769239a",
   "metadata": {},
   "outputs": [],
   "source": [
    "pred = model(x_train)"
   ]
  },
  {
   "cell_type": "markdown",
   "id": "3225d125-936e-44ae-a119-e3b0cf25ff1d",
   "metadata": {},
   "source": [
    "## A loss function: Cross Entropy Loss"
   ]
  },
  {
   "cell_type": "markdown",
   "id": "1ee765b0-0c93-4209-9688-916129ea89a0",
   "metadata": {},
   "source": [
    "#### Code"
   ]
  },
  {
   "cell_type": "code",
   "execution_count": 11,
   "id": "b0e75144-11a4-4ef2-881a-8e1138e5c79d",
   "metadata": {},
   "outputs": [],
   "source": [
    "def log_softmax(x):\n",
    "    return (x.exp() / \n",
    "            (x.exp().sum(-1, keepdim=True))\n",
    "           ).log()"
   ]
  },
  {
   "cell_type": "markdown",
   "id": "3aec3b14-fee5-4d72-804a-1cb9d350cf11",
   "metadata": {},
   "source": [
    "#### Explanation"
   ]
  },
  {
   "cell_type": "code",
   "execution_count": 13,
   "id": "06b98fa7-00c7-4c81-9b66-faa3fed0d0f6",
   "metadata": {},
   "outputs": [],
   "source": [
    "{\n",
    "    \"log_softmax\":\"Log softmax is simply taking the exponential of x, dividing it by the sum of all the exponentials, and then taking the log of that result\",\n",
    "    \"log\":\"We take the log because negative log likelihood expects a log, not a negative\"\n",
    "};"
   ]
  },
  {
   "cell_type": "code",
   "execution_count": 17,
   "id": "0209b9a2-8438-4e7b-aaba-d262502468d6",
   "metadata": {},
   "outputs": [],
   "source": [
    "log_preds = log_softmax(pred)"
   ]
  },
  {
   "cell_type": "markdown",
   "id": "3a09e9f8-f78d-49fb-acd5-5f382cb45162",
   "metadata": {},
   "source": [
    "We can then calculate log likelihood, which is equal to:\n",
    "\n",
    "`(classARight * log10(classAProb)) + (classBRight * log10(classBProb))...`\n",
    "\n",
    "For example, assume two classes such as above, with the probabilities being 0.98 and 0.2 respectively. The right answer is 0"
   ]
  },
  {
   "cell_type": "code",
   "execution_count": 48,
   "id": "86ef5122-72b7-451a-8ed4-2d9d0c5b6295",
   "metadata": {},
   "outputs": [
    {
     "data": {
      "text/plain": [
       "0.00877392430750515"
      ]
     },
     "execution_count": 48,
     "metadata": {},
     "output_type": "execute_result"
    }
   ],
   "source": [
    "is_cat = 1 # One hot encoded label\n",
    "is_dog = 0 # OHE label\n",
    "preds = 0.98 # Softmaxed predictions\n",
    "log_pred_cat = math.log10(preds) # Take log base 10\n",
    "log_pred_dog = math.log10(1-preds) # Take log base 10\n",
    "\n",
    "nll = -((is_cat * log_pred_cat) + (is_dog * log_pred_dog)); nll # Follow the above, and make it negative"
   ]
  },
  {
   "cell_type": "markdown",
   "id": "07d937b0-fad8-4779-8a28-55d53d85019b",
   "metadata": {},
   "source": [
    "We can make it faster by first finding the location of the 1 (since there is only a single one), then using that index calculate it all"
   ]
  },
  {
   "cell_type": "code",
   "execution_count": 52,
   "id": "be2c7d89-f056-4e32-928c-196e89042bca",
   "metadata": {},
   "outputs": [
    {
     "data": {
      "text/plain": [
       "tensor([5, 0, 4])"
      ]
     },
     "execution_count": 52,
     "metadata": {},
     "output_type": "execute_result"
    }
   ],
   "source": [
    "y_train[:3]"
   ]
  },
  {
   "cell_type": "code",
   "execution_count": 54,
   "id": "938f5861-615a-4cad-997a-1b88f50ae4d8",
   "metadata": {},
   "outputs": [
    {
     "data": {
      "text/plain": [
       "tensor([-2.4597, -2.3251, -2.1119], grad_fn=<IndexBackward0>)"
      ]
     },
     "execution_count": 54,
     "metadata": {},
     "output_type": "execute_result"
    }
   ],
   "source": [
    "log_preds[[0,1,2], [5,0,4]]"
   ]
  },
  {
   "cell_type": "code",
   "execution_count": null,
   "id": "3cf45770-d310-4cf4-8da8-72eba24fa28e",
   "metadata": {},
   "outputs": [],
   "source": []
  }
 ],
 "metadata": {
  "kernelspec": {
   "display_name": "Python 3 (ipykernel)",
   "language": "python",
   "name": "python3"
  },
  "language_info": {
   "codemirror_mode": {
    "name": "ipython",
    "version": 3
   },
   "file_extension": ".py",
   "mimetype": "text/x-python",
   "name": "python",
   "nbconvert_exporter": "python",
   "pygments_lexer": "ipython3",
   "version": "3.7.13"
  }
 },
 "nbformat": 4,
 "nbformat_minor": 5
}
