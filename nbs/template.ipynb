{
 "cells": [
  {
   "cell_type": "markdown",
   "id": "0bb3f861-ace5-45c8-a704-216f92850da4",
   "metadata": {},
   "source": [
    "# Insert title here\n",
    "> Insert subcontext here"
   ]
  },
  {
   "cell_type": "markdown",
   "id": "1ee765b0-0c93-4209-9688-916129ea89a0",
   "metadata": {},
   "source": [
    "#### Code"
   ]
  },
  {
   "cell_type": "code",
   "execution_count": 1,
   "id": "b0e75144-11a4-4ef2-881a-8e1138e5c79d",
   "metadata": {},
   "outputs": [],
   "source": []
  },
  {
   "cell_type": "markdown",
   "id": "3aec3b14-fee5-4d72-804a-1cb9d350cf11",
   "metadata": {},
   "source": [
    "#### Explaination"
   ]
  },
  {
   "cell_type": "code",
   "execution_count": 3,
   "id": "06b98fa7-00c7-4c81-9b66-faa3fed0d0f6",
   "metadata": {},
   "outputs": [],
   "source": [
    "{\n",
    "};"
   ]
  },
  {
   "cell_type": "code",
   "execution_count": null,
   "id": "0209b9a2-8438-4e7b-aaba-d262502468d6",
   "metadata": {},
   "outputs": [],
   "source": []
  }
 ],
 "metadata": {
  "kernelspec": {
   "display_name": "Python 3 (ipykernel)",
   "language": "python",
   "name": "python3"
  },
  "language_info": {
   "codemirror_mode": {
    "name": "ipython",
    "version": 3
   },
   "file_extension": ".py",
   "mimetype": "text/x-python",
   "name": "python",
   "nbconvert_exporter": "python",
   "pygments_lexer": "ipython3",
   "version": "3.7.13"
  }
 },
 "nbformat": 4,
 "nbformat_minor": 5
}
